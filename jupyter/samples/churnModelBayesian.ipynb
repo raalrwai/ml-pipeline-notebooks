{
 "cells": [
  {
   "cell_type": "code",
   "execution_count": 1,
   "id": "a9151f77",
   "metadata": {},
   "outputs": [],
   "source": [
    "import numpy as np\n",
    "import pandas as pd\n",
    "import matplotlib.pyplot as plt\n",
    "import seaborn as sns\n",
    "from sklearn.model_selection import train_test_split\n",
    "from sklearn.metrics import classification_report, confusion_matrix\n",
    "from scipy.stats import multivariate_normal as mvn\n",
    "from sklearn.preprocessing import StandardScaler\n",
    "\n"
   ]
  },
  {
   "cell_type": "code",
   "execution_count": 2,
   "id": "acd06882",
   "metadata": {},
   "outputs": [],
   "source": [
    "df = pd.read_csv('Churn_Modelling.csv')"
   ]
  },
  {
   "cell_type": "code",
   "execution_count": 3,
   "id": "7eb89611",
   "metadata": {},
   "outputs": [
    {
     "name": "stdout",
     "output_type": "stream",
     "text": [
      "HasBalance\n",
      "1    0.6383\n",
      "0    0.3617\n",
      "Name: proportion, dtype: float64\n"
     ]
    }
   ],
   "source": [
    "df['HasBalance'] = (df['Balance'] > 0).astype(int)\n",
    "print(df['HasBalance'].value_counts(normalize=True))"
   ]
  },
  {
   "cell_type": "code",
   "execution_count": 4,
   "id": "c1677019",
   "metadata": {},
   "outputs": [
    {
     "name": "stdout",
     "output_type": "stream",
     "text": [
      "\n",
      "🔡 Unique values in 'Geography': ['France' 'Spain' 'Germany']\n",
      "\n",
      "🔡 Unique values in 'Gender': ['Female' 'Male']\n"
     ]
    }
   ],
   "source": [
    "categorical_cols = ['Geography', 'Gender']\n",
    "for col in categorical_cols:\n",
    "    print(f\"\\n🔡 Unique values in '{col}': {df[col].unique()}\")\n",
    "\n",
    "df = pd.get_dummies(df, columns=['Geography'], drop_first=True)"
   ]
  },
  {
   "cell_type": "code",
   "execution_count": 5,
   "id": "ccfc2c28",
   "metadata": {},
   "outputs": [],
   "source": [
    "df['Gender'] = df['Gender'].map({'Female': 0, 'Male': 1})\n"
   ]
  },
  {
   "cell_type": "code",
   "execution_count": 6,
   "id": "0b79a5aa",
   "metadata": {},
   "outputs": [],
   "source": [
    "df_clean = df.drop(['RowNumber', 'CustomerId', 'Surname'], axis=1)\n"
   ]
  },
  {
   "cell_type": "code",
   "execution_count": 7,
   "id": "613ec697",
   "metadata": {},
   "outputs": [],
   "source": [
    "features = ['CreditScore', 'Gender', 'Age', 'Tenure', 'Balance',\n",
    "            'NumOfProducts', 'HasCrCard', 'IsActiveMember',\n",
    "            'EstimatedSalary', 'Geography_Germany', 'Geography_Spain', 'HasBalance']\n",
    "\n",
    "X = df_clean[features].values\n",
    "y = df_clean['Exited'].values"
   ]
  },
  {
   "cell_type": "code",
   "execution_count": 8,
   "id": "5812fb50",
   "metadata": {},
   "outputs": [],
   "source": [
    "X_train, X_test, y_train, y_test = train_test_split(\n",
    "    X, y, test_size=0.2, random_state=42, stratify=y\n",
    ")"
   ]
  },
  {
   "cell_type": "code",
   "execution_count": 9,
   "id": "44bc548c",
   "metadata": {},
   "outputs": [],
   "source": [
    "numeric_cols = [0, 2, 3, 4, 5, 8]  \n",
    "\n",
    "scaler = StandardScaler()\n",
    "X_train[:, numeric_cols] = scaler.fit_transform(X_train[:, numeric_cols])\n",
    "X_test[:, numeric_cols] = scaler.transform(X_test[:, numeric_cols])"
   ]
  },
  {
   "cell_type": "code",
   "execution_count": 10,
   "id": "544018b4",
   "metadata": {},
   "outputs": [],
   "source": [
    "class gaussBayes():\n",
    "\n",
    "    def fit(self, X, y, epsilon=1e-3):\n",
    "        self.params = {}\n",
    "        self.priors = {}\n",
    "\n",
    "        self.K = set(y.astype(int))\n",
    "        \n",
    "        for k in self.K:\n",
    "            X_k = X[y==k,:]\n",
    "            N_k, d = X_k.shape\n",
    "            mu_k = X_k.mean(axis=0)\n",
    "            cov_k = (1/(N_k-1)) * np.matmul((X_k-mu_k).T, (X_k-mu_k))+epsilon*np.identity(d)\n",
    "            self.params[k] = {'mean':mu_k, 'cov':cov_k}\n",
    "            self.priors[k] = len(X_k)/len(X)\n",
    "\n",
    "    def predict(self, X):\n",
    "        N, d = X.shape\n",
    "        P_hat = np.zeros((N, len(self.K)))\n",
    "\n",
    "        for k, l in self.params.items():\n",
    "            P_hat[:,k] = mvn.logpdf(X, l['mean'], l['cov']) + np.log(self.priors[k])\n",
    "\n",
    "        return P_hat.argmax(axis=1)\n",
    "  \n",
    "def accuracy(y, y_hat):\n",
    "    return np.mean(y == y_hat)"
   ]
  },
  {
   "cell_type": "code",
   "execution_count": 11,
   "id": "eec224fc",
   "metadata": {},
   "outputs": [],
   "source": [
    "gaussNB = gaussBayes()"
   ]
  },
  {
   "cell_type": "code",
   "execution_count": 12,
   "id": "3f0d5940",
   "metadata": {},
   "outputs": [],
   "source": [
    "gaussNB.fit(X_train, y_train, epsilon=0.05)\n"
   ]
  },
  {
   "cell_type": "code",
   "execution_count": 13,
   "id": "4beec9b4",
   "metadata": {},
   "outputs": [],
   "source": [
    "y_pred = gaussNB.predict(X_test)"
   ]
  },
  {
   "cell_type": "code",
   "execution_count": 14,
   "id": "202a3e5f",
   "metadata": {},
   "outputs": [],
   "source": [
    "def confusionMatrix(y,y_hat):\n",
    "    plt.figure(figsize=(10,7))\n",
    "    y_actu = pd.Series(y, name='Actual')\n",
    "    y_pred = pd.Series(y_hat, name='Predicted')\n",
    "    cm = pd.crosstab(y_actu, y_pred)\n",
    "    ax = sns.heatmap(cm, annot=True, fmt=\"d\")\n",
    "    plt.ylabel('True label')\n",
    "    plt.xlabel('Predicted label')"
   ]
  },
  {
   "cell_type": "code",
   "execution_count": 15,
   "id": "33ad57d6",
   "metadata": {},
   "outputs": [
    {
     "name": "stdout",
     "output_type": "stream",
     "text": [
      "Accuracy: 0.8335\n",
      "Confusion Matrix:\n",
      "[[1546   47]\n",
      " [ 286  121]]\n",
      "None\n",
      "\n",
      "Classification Report:\n",
      "              precision    recall  f1-score   support\n",
      "\n",
      "           0       0.84      0.97      0.90      1593\n",
      "           1       0.72      0.30      0.42       407\n",
      "\n",
      "    accuracy                           0.83      2000\n",
      "   macro avg       0.78      0.63      0.66      2000\n",
      "weighted avg       0.82      0.83      0.80      2000\n",
      "\n"
     ]
    },
    {
     "data": {
      "image/png": "[encoded data removed]",
      "text/plain": [
       "<Figure size 1000x700 with 2 Axes>"
      ]
     },
     "metadata": {},
     "output_type": "display_data"
    }
   ],
   "source": [
    "print(f\"Accuracy: {accuracy(y_test, y_pred):.4f}\")\n",
    "print(\"Confusion Matrix:\")\n",
    "print(confusion_matrix(y_test, y_pred))\n",
    "print(confusionMatrix(y_test, y_pred))\n",
    "\n",
    "print(\"\\nClassification Report:\")\n",
    "print(classification_report(y_test, y_pred))"
   ]
  },
  {
   "cell_type": "code",
   "execution_count": 16,
   "id": "455f7824",
   "metadata": {},
   "outputs": [],
   "source": [
    "def sigmoid(h):\n",
    "    return 1/(1+np.exp(-h))\n",
    "def cross_entropy(y, p_hat):\n",
    "    epsilon = 1e-10  \n",
    "    p_hat = np.clip(p_hat, epsilon, 1 - epsilon)\n",
    "    return -(1/len(y)) * np.sum(y*np.log(p_hat) + (1 - y)*np.log(1 - p_hat))\n",
    "def accuracy(y,y_hat):\n",
    "    return np.mean(y==y_hat)"
   ]
  },
  {
   "cell_type": "code",
   "execution_count": 17,
   "id": "81649750",
   "metadata": {},
   "outputs": [],
   "source": [
    "class logisticRegression():\n",
    "    def __init__(self, thresh=0.5, seed=None):\n",
    "        self.W = None\n",
    "        self.b = None\n",
    "        self.thresh = thresh\n",
    "        if seed is not None:\n",
    "            np.random.seed(seed)\n",
    "        \n",
    "    def fit(self, X, y, eta=1e-3, epochs=1000, show_curve=True):\n",
    "        epochs = int(epochs)\n",
    "        N, D = X.shape\n",
    "\n",
    "        self.W = np.random.randn(D) * 0.01\n",
    "        self.b = float(np.random.randn() * 0.01)\n",
    "\n",
    "        J = np.zeros(epochs)\n",
    "\n",
    "        for epoch in range(epochs):\n",
    "            p_hat = self.__forward__(X)\n",
    "            J[epoch] = cross_entropy(y, p_hat)\n",
    "            self.W -= eta * (1/N) * X.T @ (p_hat - y)\n",
    "            self.b -= eta * (1/N) * np.sum(p_hat - y)\n",
    "\n",
    "        if show_curve:\n",
    "            plt.figure()\n",
    "            plt.plot(J)\n",
    "            plt.xlabel(\"Epochs\")\n",
    "            plt.ylabel(\"Loss (Cross Entropy)\")\n",
    "            plt.title(\"Training Loss Curve\")\n",
    "            plt.show()\n",
    "\n",
    "    def __forward__(self, X):\n",
    "        return sigmoid(X @ self.W + self.b)\n",
    "        \n",
    "    def predict(self, X):\n",
    "        return (self.__forward__(X) >= self.thresh).astype(np.int32)"
   ]
  },
  {
   "cell_type": "code",
   "execution_count": 18,
   "id": "e8c9bb2a",
   "metadata": {},
   "outputs": [],
   "source": [
    "def main():\n",
    "    features = ['CreditScore', 'Gender', 'Age', 'Tenure', 'Balance', \n",
    "            'NumOfProducts', 'HasCrCard', 'IsActiveMember', \n",
    "            'EstimatedSalary', 'Geography_Germany', 'Geography_Spain', 'HasBalance']\n",
    "\n",
    "    X = df[features].values\n",
    "    y = df['Exited'].values\n",
    "\n",
    "    X = np.array(X, dtype=float)\n",
    "    y = np.array(y, dtype=int)\n",
    "\n",
    "    numeric_cols = [0, 2, 3, 4, 5, 8]  # indexes of numeric columns to scale\n",
    "\n",
    "    X_train, X_test, y_train, y_test = train_test_split(\n",
    "        X, y, test_size=0.2, random_state=42, stratify=y\n",
    "    )\n",
    "\n",
    "    scaler = StandardScaler()\n",
    "    X_train[:, numeric_cols] = scaler.fit_transform(X_train[:, numeric_cols])\n",
    "    X_test[:, numeric_cols] = scaler.transform(X_test[:, numeric_cols])\n",
    "\n",
    "    log_reg = logisticRegression(seed=42)\n",
    "    log_reg.fit(X_train, y_train, eta=1e-2, epochs=30000)\n",
    "\n",
    "    y_hat_train = log_reg.predict(X_train)\n",
    "    y_hat_test = log_reg.predict(X_test)\n",
    "\n",
    "    print(f\"Training Accuracy: {accuracy(y_train, y_hat_train):.4f}\")\n",
    "    print(f\"Test Accuracy: {accuracy(y_test, y_hat_test):.4f}\")\n",
    "\n",
    "    print(\"\\nConfusion Matrix (Test):\")\n",
    "    print(confusion_matrix(y_test, y_hat_test))\n",
    "\n",
    "    print(\"\\nClassification Report (Test):\")\n",
    "    print(classification_report(y_test, y_hat_test, digits=4))"
   ]
  },
  {
   "cell_type": "code",
   "execution_count": 19,
   "id": "6bcd1cae",
   "metadata": {},
   "outputs": [
    {
     "data": {
      "image/png": "[encoded data removed]",
      "text/plain": [
       "<Figure size 640x480 with 1 Axes>"
      ]
     },
     "metadata": {},
     "output_type": "display_data"
    },
    {
     "name": "stdout",
     "output_type": "stream",
     "text": [
      "Training Accuracy: 0.8109\n",
      "Test Accuracy: 0.8090\n",
      "\n",
      "Confusion Matrix (Test):\n",
      "[[1540   53]\n",
      " [ 329   78]]\n",
      "\n",
      "Classification Report (Test):\n",
      "              precision    recall  f1-score   support\n",
      "\n",
      "           0     0.8240    0.9667    0.8897      1593\n",
      "           1     0.5954    0.1916    0.2900       407\n",
      "\n",
      "    accuracy                         0.8090      2000\n",
      "   macro avg     0.7097    0.5792    0.5898      2000\n",
      "weighted avg     0.7775    0.8090    0.7676      2000\n",
      "\n"
     ]
    }
   ],
   "source": [
    "if __name__ == \"__main__\":\n",
    "    main()"
   ]
  }
 ],
 "metadata": {
  "kernelspec": {
   "display_name": "env (3.13.7)",
   "language": "python",
   "name": "python3"
  },
  "language_info": {
   "codemirror_mode": {
    "name": "ipython",
    "version": 3
   },
   "file_extension": ".py",
   "mimetype": "text/x-python",
   "name": "python",
   "nbconvert_exporter": "python",
   "pygments_lexer": "ipython3",
   "version": "3.13.7"
  }
 },
 "nbformat": 4,
 "nbformat_minor": 5
}
