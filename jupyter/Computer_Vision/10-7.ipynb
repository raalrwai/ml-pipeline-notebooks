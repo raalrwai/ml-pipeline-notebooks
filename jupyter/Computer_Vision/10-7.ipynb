{
 "cells": [
  {
   "cell_type": "markdown",
   "id": "95bfcd1d",
   "metadata": {
    "id": "95bfcd1d"
   },
   "source": [
    "# Image Classification"
   ]
  },
  {
   "cell_type": "markdown",
   "id": "92252d38",
   "metadata": {
    "id": "92252d38"
   },
   "source": [
    "## Imports"
   ]
  },
  {
   "cell_type": "code",
   "execution_count": 1,
   "id": "246d1d8c",
   "metadata": {
    "executionInfo": {
     "elapsed": 646,
     "status": "ok",
     "timestamp": 1759854524433,
     "user": {
      "displayName": "Bryce Anderson",
      "userId": "12006015608494052085"
     },
     "user_tz": 240
    },
    "id": "246d1d8c"
   },
   "outputs": [],
   "source": [
    "import numpy as np\n",
    "import pandas as pd\n",
    "import matplotlib.pyplot as plt\n",
    "import matplotlib.image as mpimg\n",
    "import os\n",
    "import zipfile"
   ]
  },
  {
   "cell_type": "markdown",
   "id": "df774689",
   "metadata": {
    "id": "df774689"
   },
   "source": [
    "## Cat & Dog Image Classification Using CNNs & TensorFlow"
   ]
  },
  {
   "cell_type": "markdown",
   "id": "WExRkqeWhtAt",
   "metadata": {
    "id": "WExRkqeWhtAt"
   },
   "source": [
    "### Import Data"
   ]
  },
  {
   "cell_type": "code",
   "execution_count": null,
   "id": "e93308b4",
   "metadata": {
    "colab": {
     "base_uri": "https://localhost:8080/"
    },
    "collapsed": true,
    "executionInfo": {
     "elapsed": 616,
     "status": "ok",
     "timestamp": 1759856866216,
     "user": {
      "displayName": "Bryce Anderson",
      "userId": "12006015608494052085"
     },
     "user_tz": 240
    },
    "id": "e93308b4",
    "outputId": "49a077a3-dafc-499c-c46f-b0828c536735"
   },
   "outputs": [],
   "source": [
    "!wget --no-check-certificate \\\n",
    "    https://storage.googleapis.com/mledu-datasets/cats_and_dogs_filtered.zip \\\n",
    "    -O /content/cats_and_dogs_filtered.zip"
   ]
  },
  {
   "cell_type": "markdown",
   "id": "auv2peuMWHiN",
   "metadata": {
    "id": "auv2peuMWHiN"
   },
   "source": [
    "### Extract Data and Build Directory Structure"
   ]
  },
  {
   "cell_type": "code",
   "execution_count": null,
   "id": "MHMY47XNVvGI",
   "metadata": {
    "executionInfo": {
     "elapsed": 1297,
     "status": "ok",
     "timestamp": 1759856867514,
     "user": {
      "displayName": "Bryce Anderson",
      "userId": "12006015608494052085"
     },
     "user_tz": 240
    },
    "id": "MHMY47XNVvGI"
   },
   "outputs": [],
   "source": [
    "local_zip = \"cats_and_dogs_filtered.zip\"\n",
    "zip_ref = zipfile.ZipFile(local_zip, 'r')\n",
    "zip_ref.extractall('cats_and_dogs_filtered')\n",
    "zip_ref.close()\n"
   ]
  },
  {
   "cell_type": "code",
   "execution_count": null,
   "id": "tuwCv5bRWExd",
   "metadata": {
    "executionInfo": {
     "elapsed": 6,
     "status": "ok",
     "timestamp": 1759856867522,
     "user": {
      "displayName": "Bryce Anderson",
      "userId": "12006015608494052085"
     },
     "user_tz": 240
    },
    "id": "tuwCv5bRWExd"
   },
   "outputs": [],
   "source": [
    "base_dir = 'cats_and_dogs_filtered/cats_and_dogs_filtered'\n",
    "train_dir = os.path.join(base_dir, 'train')\n",
    "validation_dir = os.path.join(base_dir, 'validation')"
   ]
  },
  {
   "cell_type": "code",
   "execution_count": null,
   "id": "WftCXTJ-WkNX",
   "metadata": {
    "executionInfo": {
     "elapsed": 16,
     "status": "ok",
     "timestamp": 1759856867549,
     "user": {
      "displayName": "Bryce Anderson",
      "userId": "12006015608494052085"
     },
     "user_tz": 240
    },
    "id": "WftCXTJ-WkNX"
   },
   "outputs": [],
   "source": [
    "train_cats_dir = os.path.join(train_dir,'cats')\n",
    "train_dogs_dir = os.path.join(train_dir,'dogs')\n",
    "validation_cats_dir = os.path.join(validation_dir,'cats')\n",
    "validation_dogs_dir = os.path.join(validation_dir,'dogs')"
   ]
  },
  {
   "cell_type": "code",
   "execution_count": null,
   "id": "PFz6TqxkWq4X",
   "metadata": {
    "executionInfo": {
     "elapsed": 12,
     "status": "ok",
     "timestamp": 1759856867568,
     "user": {
      "displayName": "Bryce Anderson",
      "userId": "12006015608494052085"
     },
     "user_tz": 240
    },
    "id": "PFz6TqxkWq4X"
   },
   "outputs": [],
   "source": [
    "train_cat_fnames = os.listdir(train_cats_dir)\n",
    "train_dog_fnames = os.listdir(train_dogs_dir)\n",
    "validation_cats_fnames = os.listdir(validation_cats_dir)\n",
    "validation_dogs_fnames = os.listdir(validation_dogs_dir)"
   ]
  },
  {
   "cell_type": "code",
   "execution_count": null,
   "id": "qTOfB4uKXO0O",
   "metadata": {
    "colab": {
     "base_uri": "https://localhost:8080/",
     "height": 1000
    },
    "executionInfo": {
     "elapsed": 2413,
     "status": "ok",
     "timestamp": 1759856870001,
     "user": {
      "displayName": "Bryce Anderson",
      "userId": "12006015608494052085"
     },
     "user_tz": 240
    },
    "id": "qTOfB4uKXO0O",
    "outputId": "beaa2bf2-7dd5-4495-fccf-4895b1c12811"
   },
   "outputs": [],
   "source": [
    "nrows= 4\n",
    "ncols = 4\n",
    "pic_index =0\n",
    "fig = plt.gcf()\n",
    "fig.set_size_inches(ncols*4, nrows*4)\n",
    "pic_index=8\n",
    "next_cat = [os.path.join(train_cats_dir, fname) for fname in train_cat_fnames[pic_index-8:pic_index]]\n",
    "next_dog = [os.path.join(train_dogs_dir, fname) for fname in train_dog_fnames[pic_index-8:pic_index]]\n",
    "\n",
    "for i,  img_path in enumerate(next_cat+next_dog):\n",
    "  sp = plt.subplot(nrows,ncols, i+1)\n",
    "  sp.axis(\"Off\")\n",
    "  img =mpimg.imread(img_path)\n",
    "  plt.imshow(img)\n"
   ]
  },
  {
   "cell_type": "markdown",
   "id": "TmUZVmxrXbqP",
   "metadata": {
    "id": "TmUZVmxrXbqP"
   },
   "source": [
    "### Build CNN Model Using Keras Layers Objects"
   ]
  },
  {
   "cell_type": "markdown",
   "id": "L5wmAMMRbUiU",
   "metadata": {
    "id": "L5wmAMMRbUiU"
   },
   "source": [
    "#### Build CNN Architecture"
   ]
  },
  {
   "cell_type": "code",
   "execution_count": null,
   "id": "JH25JrPpXRHi",
   "metadata": {
    "executionInfo": {
     "elapsed": 2,
     "status": "ok",
     "timestamp": 1759856870007,
     "user": {
      "displayName": "Bryce Anderson",
      "userId": "12006015608494052085"
     },
     "user_tz": 240
    },
    "id": "JH25JrPpXRHi"
   },
   "outputs": [],
   "source": [
    "import tensorflow as tf\n",
    "import tensorflow.keras as keras"
   ]
  },
  {
   "cell_type": "code",
   "execution_count": null,
   "id": "d3N_uU2IX2HM",
   "metadata": {
    "executionInfo": {
     "elapsed": 1,
     "status": "ok",
     "timestamp": 1759856870011,
     "user": {
      "displayName": "Bryce Anderson",
      "userId": "12006015608494052085"
     },
     "user_tz": 240
    },
    "id": "d3N_uU2IX2HM"
   },
   "outputs": [],
   "source": [
    "img_input = keras.layers.Input(shape=(150,150,3))\n",
    "\n",
    "#Embedding Layers\n",
    "L = keras.layers.Conv2D(16,3, activation='relu')(img_input)\n",
    "L = keras.layers.MaxPooling2D(2)(L)\n",
    "\n",
    "L = keras.layers.Conv2D(32,3, activation='relu')(L)\n",
    "L = keras.layers.MaxPooling2D(2)(L)\n",
    "\n",
    "L = keras.layers.Conv2D(64,3, activation='relu')(L)\n",
    "L = keras.layers.MaxPooling2D(2)(L)\n",
    "\n",
    "#Fully Connected Layer\n",
    "F = keras.layers.Flatten()(L)\n",
    "##Classifier\n",
    "F = keras.layers.Dense(512, activation='relu')(F)\n",
    "output = keras.layers.Dense(1, activation='sigmoid')(F)"
   ]
  },
  {
   "cell_type": "code",
   "execution_count": null,
   "id": "Baa_dh2FYwyo",
   "metadata": {
    "executionInfo": {
     "elapsed": 0,
     "status": "ok",
     "timestamp": 1759856870012,
     "user": {
      "displayName": "Bryce Anderson",
      "userId": "12006015608494052085"
     },
     "user_tz": 240
    },
    "id": "Baa_dh2FYwyo"
   },
   "outputs": [],
   "source": [
    "my_cnn_model = keras.Model(img_input,output)"
   ]
  },
  {
   "cell_type": "code",
   "execution_count": null,
   "id": "2gOh5WUKaKej",
   "metadata": {
    "colab": {
     "base_uri": "https://localhost:8080/",
     "height": 449
    },
    "executionInfo": {
     "elapsed": 2,
     "status": "ok",
     "timestamp": 1759856870016,
     "user": {
      "displayName": "Bryce Anderson",
      "userId": "12006015608494052085"
     },
     "user_tz": 240
    },
    "id": "2gOh5WUKaKej",
    "outputId": "3a54fe88-fa7d-431d-ced5-d13aa4b70f79"
   },
   "outputs": [],
   "source": [
    "my_cnn_model.summary()"
   ]
  },
  {
   "cell_type": "markdown",
   "id": "zWgtFaBlbSFR",
   "metadata": {
    "id": "zWgtFaBlbSFR"
   },
   "source": [
    "#### Train CNN"
   ]
  },
  {
   "cell_type": "code",
   "execution_count": null,
   "id": "c8ZaElx2a2Sg",
   "metadata": {
    "executionInfo": {
     "elapsed": 1,
     "status": "ok",
     "timestamp": 1759856870019,
     "user": {
      "displayName": "Bryce Anderson",
      "userId": "12006015608494052085"
     },
     "user_tz": 240
    },
    "id": "c8ZaElx2a2Sg"
   },
   "outputs": [],
   "source": [
    "from keras.optimizers import RMSprop"
   ]
  },
  {
   "cell_type": "markdown",
   "id": "gC0mviJHb9cJ",
   "metadata": {
    "id": "gC0mviJHb9cJ"
   },
   "source": [
    "##### Model Compile\n",
    "\n"
   ]
  },
  {
   "cell_type": "code",
   "execution_count": null,
   "id": "HN3jQLQhb8EA",
   "metadata": {
    "executionInfo": {
     "elapsed": 1,
     "status": "ok",
     "timestamp": 1759856870021,
     "user": {
      "displayName": "Bryce Anderson",
      "userId": "12006015608494052085"
     },
     "user_tz": 240
    },
    "id": "HN3jQLQhb8EA"
   },
   "outputs": [],
   "source": [
    "my_cnn_model.compile(loss='binary_crossentropy',\n",
    "                     optimizer=RMSprop(learning_rate=.001),\n",
    "                     metrics=['acc'])"
   ]
  },
  {
   "cell_type": "markdown",
   "id": "Pm7MjNTjc96b",
   "metadata": {
    "id": "Pm7MjNTjc96b"
   },
   "source": [
    "##### Preprocess Image Data"
   ]
  },
  {
   "cell_type": "code",
   "execution_count": null,
   "id": "RUjT_Ad3cloX",
   "metadata": {
    "executionInfo": {
     "elapsed": 2,
     "status": "ok",
     "timestamp": 1759856870024,
     "user": {
      "displayName": "Bryce Anderson",
      "userId": "12006015608494052085"
     },
     "user_tz": 240
    },
    "id": "RUjT_Ad3cloX"
   },
   "outputs": [],
   "source": [
    "from tensorflow.keras.preprocessing.image import ImageDataGenerator"
   ]
  },
  {
   "cell_type": "code",
   "execution_count": null,
   "id": "7Ohur6TfdNFt",
   "metadata": {
    "colab": {
     "base_uri": "https://localhost:8080/"
    },
    "executionInfo": {
     "elapsed": 6,
     "status": "ok",
     "timestamp": 1759856870029,
     "user": {
      "displayName": "Bryce Anderson",
      "userId": "12006015608494052085"
     },
     "user_tz": 240
    },
    "id": "7Ohur6TfdNFt",
    "outputId": "e2cba58a-795e-443c-8188-7c8ebfc0ea59"
   },
   "outputs": [],
   "source": [
    "#Rescaling\n",
    "train_datagen = ImageDataGenerator(rescale=1./255)\n",
    "val_datagen   = ImageDataGenerator(rescale=1./255)\n",
    "\n",
    "#Fetch Data and Resize\n",
    "train_generator = train_datagen.flow_from_directory(train_dir,\n",
    "                                                    target_size =(150,150),\n",
    "                                                    batch_size  =20,\n",
    "                                                    class_mode  ='binary')\n",
    "validation_generator = val_datagen.flow_from_directory(validation_dir,\n",
    "                                                        target_size =(150,150),\n",
    "                                                        batch_size  =20,\n",
    "                                                        class_mode  ='binary')\n"
   ]
  },
  {
   "cell_type": "markdown",
   "id": "_Om661O1eiyC",
   "metadata": {
    "id": "_Om661O1eiyC"
   },
   "source": [
    "##### Model Fit"
   ]
  },
  {
   "cell_type": "code",
   "execution_count": null,
   "id": "gnVMka54eXUg",
   "metadata": {
    "colab": {
     "base_uri": "https://localhost:8080/"
    },
    "executionInfo": {
     "elapsed": 72753,
     "status": "ok",
     "timestamp": 1759856942783,
     "user": {
      "displayName": "Bryce Anderson",
      "userId": "12006015608494052085"
     },
     "user_tz": 240
    },
    "id": "gnVMka54eXUg",
    "outputId": "0336b058-7550-4d10-9b47-e00ecbd22529"
   },
   "outputs": [],
   "source": [
    "history = my_cnn_model.fit(train_generator,\n",
    "                           steps_per_epoch=100,\n",
    "                           epochs=15,\n",
    "                           validation_data=validation_generator,\n",
    "                           verbose=2)"
   ]
  },
  {
   "cell_type": "markdown",
   "id": "I8Rgy_vFfuBF",
   "metadata": {
    "id": "I8Rgy_vFfuBF"
   },
   "source": [
    "#### Feature Mapping"
   ]
  },
  {
   "cell_type": "code",
   "execution_count": null,
   "id": "f12H4Wfogwia",
   "metadata": {
    "executionInfo": {
     "elapsed": 1,
     "status": "ok",
     "timestamp": 1759856942787,
     "user": {
      "displayName": "Bryce Anderson",
      "userId": "12006015608494052085"
     },
     "user_tz": 240
    },
    "id": "f12H4Wfogwia"
   },
   "outputs": [],
   "source": [
    "model = my_cnn_model"
   ]
  },
  {
   "cell_type": "code",
   "execution_count": null,
   "id": "DlytjpoGghec",
   "metadata": {
    "executionInfo": {
     "elapsed": 3,
     "status": "ok",
     "timestamp": 1759856942791,
     "user": {
      "displayName": "Bryce Anderson",
      "userId": "12006015608494052085"
     },
     "user_tz": 240
    },
    "id": "DlytjpoGghec"
   },
   "outputs": [],
   "source": [
    "import numpy as np\n",
    "import random\n",
    "from tensorflow.keras.preprocessing.image import img_to_array, load_img\n",
    "from tensorflow.keras import Model"
   ]
  },
  {
   "cell_type": "code",
   "execution_count": null,
   "id": "2V4R3mhQfPRu",
   "metadata": {
    "colab": {
     "base_uri": "https://localhost:8080/",
     "height": 618
    },
    "executionInfo": {
     "elapsed": 2031,
     "status": "ok",
     "timestamp": 1759856944825,
     "user": {
      "displayName": "Bryce Anderson",
      "userId": "12006015608494052085"
     },
     "user_tz": 240
    },
    "id": "2V4R3mhQfPRu",
    "outputId": "b689662a-dde3-4c36-9be6-93852c8761c2"
   },
   "outputs": [],
   "source": [
    "# Let's define a new Model that will take an image as input, and will output\n",
    "# intermediate representations for all layers in the previous model after\n",
    "# the first.\n",
    "successive_outputs = [layer.output for layer in model.layers[1:]]\n",
    "visualization_model = Model(img_input, successive_outputs)\n",
    "\n",
    "# Let's prepare a random input image of a cat or dog from the training set.\n",
    "cat_img_files = [os.path.join(train_cats_dir, f) for f in train_cat_fnames]\n",
    "dog_img_files = [os.path.join(train_dogs_dir, f) for f in train_dog_fnames]\n",
    "img_path = random.choice(cat_img_files + dog_img_files)\n",
    "\n",
    "img = load_img(img_path, target_size=(150, 150))  # this is a PIL image\n",
    "x = img_to_array(img)  # Numpy array with shape (150, 150, 3)\n",
    "x = x.reshape((1,) + x.shape)  # Numpy array with shape (1, 150, 150, 3)\n",
    "\n",
    "# Rescale by 1/255\n",
    "x /= 255\n",
    "\n",
    "# Let's run our image through our network, thus obtaining all\n",
    "# intermediate representations for this image.\n",
    "successive_feature_maps = visualization_model.predict(x)\n",
    "\n",
    "# These are the names of the layers, so can have them as part of our plot\n",
    "layer_names = [layer.name for layer in model.layers]\n",
    "\n",
    "# Now let's display our representations\n",
    "for layer_name, feature_map in zip(layer_names, successive_feature_maps):\n",
    "  if len(feature_map.shape) == 4:\n",
    "    # Just do this for the conv / maxpool layers, not the fully-connected layers\n",
    "    n_features = feature_map.shape[-1]  # number of features in feature map\n",
    "    # The feature map has shape (1, size, size, n_features)\n",
    "    size = feature_map.shape[1]\n",
    "    # We will tile our images in this matrix\n",
    "    display_grid = np.zeros((size, size * n_features))\n",
    "    for i in range(n_features):\n",
    "      # Postprocess the feature to make it visually palatable\n",
    "      x = feature_map[0, :, :, i]\n",
    "      x -= x.mean()\n",
    "      x /= x.std()\n",
    "      x *= 64\n",
    "      x += 128\n",
    "      x = np.clip(x, 0, 255).astype('uint8')\n",
    "      # We'll tile each filter into this big horizontal grid\n",
    "      display_grid[:, i * size : (i + 1) * size] = x\n",
    "    # Display the grid\n",
    "    scale = 20. / n_features\n",
    "    plt.figure(figsize=(scale * n_features, scale))\n",
    "    plt.title(layer_name)\n",
    "    plt.grid(False)\n",
    "    plt.imshow(display_grid, aspect='auto', cmap='viridis')"
   ]
  },
  {
   "cell_type": "markdown",
   "id": "kElm_7YphlfY",
   "metadata": {
    "id": "kElm_7YphlfY"
   },
   "source": [
    "### Improved Model"
   ]
  },
  {
   "cell_type": "code",
   "execution_count": null,
   "id": "fCjnyAysg3Wh",
   "metadata": {
    "executionInfo": {
     "elapsed": 3,
     "status": "ok",
     "timestamp": 1759856944842,
     "user": {
      "displayName": "Bryce Anderson",
      "userId": "12006015608494052085"
     },
     "user_tz": 240
    },
    "id": "fCjnyAysg3Wh"
   },
   "outputs": [],
   "source": [
    "# Improved CNN with Image Augmentation and Transfer Learning"
   ]
  },
  {
   "cell_type": "code",
   "execution_count": null,
   "id": "4c3859ad",
   "metadata": {},
   "outputs": [],
   "source": [
    "import numpy as np\n",
    "import pandas as pd\n",
    "import matplotlib.pyplot as plt"
   ]
  },
  {
   "cell_type": "code",
   "execution_count": null,
   "id": "fe39eea2",
   "metadata": {},
   "outputs": [],
   "source": [
    "import tensorflow as tf\n",
    "import tensorflow.keras as keras"
   ]
  },
  {
   "cell_type": "code",
   "execution_count": null,
   "id": "257c11b8",
   "metadata": {},
   "outputs": [],
   "source": [
    "#mage Preprocessing and Augmentation"
   ]
  },
  {
   "cell_type": "code",
   "execution_count": null,
   "id": "5075b8b2",
   "metadata": {},
   "outputs": [],
   "source": [
    "from tensorflow.keras.preprocessing.image import ImageDataGenerator"
   ]
  },
  {
   "cell_type": "code",
   "execution_count": null,
   "id": "f0ed44fa",
   "metadata": {},
   "outputs": [],
   "source": [
    "#Constants \n",
    "BATCH_SIZE = 20\n",
    "IMG_SHAPE = 150"
   ]
  },
  {
   "cell_type": "code",
   "execution_count": null,
   "id": "111c6026",
   "metadata": {},
   "outputs": [],
   "source": [
    "image_gen_train = ImageDataGenerator(\n",
    "    rescale=1./255,\n",
    "    rotation_range = 40,\n",
    "    width_shift_range = 0.2,\n",
    "    height_shift_range = 0.2,\n",
    "    shear_range = 0.2, \n",
    "    horizontal_flip = True,\n",
    "    fill_mode = 'nearest'\n",
    ")\n",
    "train_data_gen = image_gen_train.flow_from_directory(\n",
    "    batch_size=BATCH_SIZE,\n",
    "    directory=train_dir,\n",
    "    shuffle=True,\n",
    "    target_size=(IMG_SHAPE, IMG_SHAPE),\n",
    "    class_mode='binary'\n",
    ")\n",
    "\n"
   ]
  },
  {
   "cell_type": "code",
   "execution_count": null,
   "id": "4143b3e3",
   "metadata": {},
   "outputs": [],
   "source": [
    "image_gen_val = ImageDataGenerator(rescale=1./255)\n",
    "val_data_gen = image_gen_val.flow_from_directory(\n",
    "    batch_size = BATCH_SIZE,\n",
    "    directory = validation_dir,\n",
    "    shuffle=True,\n",
    "    target_size = (IMG_SHAPE,IMG_SHAPE),\n",
    "    class_mode = 'binary'\n",
    ")"
   ]
  },
  {
   "cell_type": "code",
   "execution_count": null,
   "id": "cfe43d06",
   "metadata": {},
   "outputs": [],
   "source": [
    "def plotImages(images_arr):\n",
    "  fig, axes = plt.subplots(1,len(images_arr), figsize=(20,20))\n",
    "  axes =axes.flatten()\n",
    "  for img,ax in zip(images_arr,axes):\n",
    "    ax.imshow(img)\n",
    "  plt.tight_layout()\n",
    "  plt.show()"
   ]
  },
  {
   "cell_type": "code",
   "execution_count": null,
   "id": "48ec062e",
   "metadata": {},
   "outputs": [],
   "source": [
    "augmented_images = [train_data_gen[0][0][12] for i in range(6)]"
   ]
  },
  {
   "cell_type": "code",
   "execution_count": null,
   "id": "394b9f46",
   "metadata": {},
   "outputs": [],
   "source": [
    "plotImages(augmented_images)"
   ]
  },
  {
   "cell_type": "code",
   "execution_count": null,
   "id": "bd41621c",
   "metadata": {},
   "outputs": [],
   "source": [
    "## Transfer Learning"
   ]
  },
  {
   "cell_type": "code",
   "execution_count": null,
   "id": "0cdef9e9",
   "metadata": {},
   "outputs": [],
   "source": [
    "from keras.applications import vgg16"
   ]
  },
  {
   "cell_type": "code",
   "execution_count": null,
   "id": "7e2bf383",
   "metadata": {},
   "outputs": [],
   "source": [
    "#vgg16 Pre-Trained Model "
   ]
  },
  {
   "cell_type": "code",
   "execution_count": null,
   "id": "a0635ec3",
   "metadata": {},
   "outputs": [],
   "source": [
    "vgg = vgg16.VGG16(include_top = False, weights='imagenet', input_shape =(150,150,3))"
   ]
  },
  {
   "cell_type": "code",
   "execution_count": null,
   "id": "e3164fb2",
   "metadata": {},
   "outputs": [],
   "source": [
    "vgg.summary()"
   ]
  },
  {
   "cell_type": "code",
   "execution_count": null,
   "id": "23eb96a3",
   "metadata": {},
   "outputs": [],
   "source": [
    "from tensorflow.keras.layers import Conv2D, MaxPooling2D, Dense, Flatten, Dropout, InputLayer"
   ]
  },
  {
   "cell_type": "code",
   "execution_count": null,
   "id": "13b52fe9",
   "metadata": {},
   "outputs": [],
   "source": [
    "output = vgg.layers[-1].output\n",
    "output = Flatten()(output)\n",
    "vgg_model = keras.Model(vgg.input, output)\n",
    "vgg_model.trainable = False"
   ]
  },
  {
   "cell_type": "code",
   "execution_count": null,
   "id": "7d5bc620",
   "metadata": {},
   "outputs": [],
   "source": [
    "for layer in vgg_model.layers:\n",
    "    layer.trainable = False"
   ]
  },
  {
   "cell_type": "code",
   "execution_count": null,
   "id": "636cba0a",
   "metadata": {},
   "outputs": [],
   "source": [
    "#Build CUstomer Classified"
   ]
  },
  {
   "cell_type": "code",
   "execution_count": null,
   "id": "45d0888d",
   "metadata": {},
   "outputs": [],
   "source": [
    "model = keras.Sequential()\n",
    "model.add(vgg_model)\n",
    "model.add(Flatten())\n",
    "model.add(Dense(512, activation='relu'))\n",
    "model.add(Dropout(0.15))\n",
    "model.add(Dense(64, activation='relu'))\n",
    "\n",
    "\n",
    "model.add(Dense(1, activation = 'sigmoid'))\n",
    "\n"
   ]
  },
  {
   "cell_type": "code",
   "execution_count": null,
   "id": "0a45b54b",
   "metadata": {},
   "outputs": [],
   "source": [
    "model.summary()"
   ]
  },
  {
   "cell_type": "code",
   "execution_count": null,
   "id": "aab0df0a",
   "metadata": {},
   "outputs": [],
   "source": [
    "#Model Compiler"
   ]
  },
  {
   "cell_type": "code",
   "execution_count": null,
   "id": "d5352e5c",
   "metadata": {},
   "outputs": [],
   "source": [
    "model.compile(\n",
    "    loss = \"binary_crossentropy\",\n",
    "    optimizer = keras.optimizers.RMSprop(learning_rate=0.0005), \n",
    "    metrics = ['binary_accuracy']\n",
    "\n",
    ")"
   ]
  },
  {
   "cell_type": "code",
   "execution_count": null,
   "id": "92b99f8f",
   "metadata": {},
   "outputs": [],
   "source": [
    "#Early Stopping Callback"
   ]
  },
  {
   "cell_type": "code",
   "execution_count": null,
   "id": "a3abb817",
   "metadata": {},
   "outputs": [],
   "source": [
    "callback = tf.keras.callbacks.EarlyStopping(monitor='loss', patience=2)\n"
   ]
  },
  {
   "cell_type": "code",
   "execution_count": null,
   "id": "c20d8603",
   "metadata": {},
   "outputs": [],
   "source": [
    "history = model.fit(\n",
    "    train_data_gen, \n",
    "    steps_per_epoch = 100,\n",
    "    epochs = 5,\n",
    "    validation_data = val_data_gen,\n",
    "    validation_steps = 50,\n",
    "    callbacks = [callback],\n",
    "    verbose = 2\n",
    ")"
   ]
  },
  {
   "cell_type": "code",
   "execution_count": null,
   "id": "b416a4a5",
   "metadata": {},
   "outputs": [],
   "source": [
    "acc = history.history['binary_accuracy']\n",
    "val_acc = history.history['val_binary_accuracy']\n",
    "\n",
    "loss = history.history['loss']\n",
    "val_loss = history.history['val_loss']\n",
    "\n",
    "epochs_range = range(len(acc))\n",
    "\n",
    "plt.figure(figsize=(20, 12))\n",
    "plt.subplot(1, 2, 1)\n",
    "plt.plot(epochs_range, acc, label='Training Accuracy')\n",
    "plt.plot(epochs_range, val_acc, label='Validation Accuracy')\n",
    "plt.legend(loc='lower right')\n",
    "plt.title('Training and Validation Accuracy')\n",
    "\n",
    "plt.subplot(1, 2, 2)\n",
    "plt.plot(epochs_range, loss, label='Training Loss')\n",
    "plt.plot(epochs_range, val_loss, label='Validation Loss')\n",
    "plt.legend(loc='upper right')\n",
    "plt.title('Training and Validation Loss')\n",
    "plt.show()"
   ]
  },
  {
   "cell_type": "code",
   "execution_count": null,
   "id": "630bf998",
   "metadata": {},
   "outputs": [],
   "source": [
    "from keras.preprocessing.image import load_img, img_to_array"
   ]
  },
  {
   "cell_type": "code",
   "execution_count": null,
   "id": "978e260c",
   "metadata": {},
   "outputs": [],
   "source": [
    "def cat_or_dog(file):\n",
    "    img = load_img(file, target_size=(IMG_SHAPE,IMG_SHAPE))\n",
    "    img = img_to_array(img)\n",
    "    img = np.expand_dims(img, axis=0)\n",
    "\n",
    "    probs = model.predict(img)\n",
    "\n",
    "    if probs[0][0]==1:\n",
    "        result = 'dog'\n",
    "    else:\n",
    "        result = 'cat'\n",
    "\n",
    "    plt.imshow(plt.imread(file))\n",
    "    plt.show()\n",
    "\n",
    "    print(\"This is clearly a \" + result + \"!\")\n",
    "    return probs"
   ]
  },
  {
   "cell_type": "code",
   "execution_count": null,
   "id": "481f0cc6",
   "metadata": {},
   "outputs": [],
   "source": [
    "cat_or_dog('image.jpg')"
   ]
  },
  {
   "cell_type": "code",
   "execution_count": null,
   "id": "78632a0a",
   "metadata": {},
   "outputs": [],
   "source": [
    "cat_or_dog('doge.jpg')"
   ]
  },
  {
   "cell_type": "code",
   "execution_count": null,
   "id": "228c1c1e",
   "metadata": {},
   "outputs": [],
   "source": [
    "cat_or_dog('dog.jpg')"
   ]
  },
  {
   "cell_type": "code",
   "execution_count": null,
   "id": "4d0e097a",
   "metadata": {},
   "outputs": [],
   "source": [
    "#Time Series Analysis using ARIMA"
   ]
  },
  {
   "cell_type": "code",
   "execution_count": null,
   "id": "135b2ba3",
   "metadata": {},
   "outputs": [],
   "source": [
    "import numpy as np\n",
    "import pandas as pd\n",
    "import matplotlib.pyplot as plt"
   ]
  },
  {
   "cell_type": "code",
   "execution_count": null,
   "id": "d16a5093",
   "metadata": {},
   "outputs": [],
   "source": [
    "DF =pd.read_csv(\"Electric_Production.csv\")"
   ]
  },
  {
   "cell_type": "code",
   "execution_count": null,
   "id": "efbe530d",
   "metadata": {},
   "outputs": [],
   "source": [
    "DF"
   ]
  },
  {
   "cell_type": "code",
   "execution_count": null,
   "id": "586ccdff",
   "metadata": {},
   "outputs": [],
   "source": [
    "DF = DF.rename(columns={'DATE':'ds', 'IPG2211A2N': 'ts'})"
   ]
  },
  {
   "cell_type": "code",
   "execution_count": null,
   "id": "9beedaef",
   "metadata": {},
   "outputs": [],
   "source": [
    "DF.head()"
   ]
  },
  {
   "cell_type": "code",
   "execution_count": null,
   "id": "85d0df9b",
   "metadata": {},
   "outputs": [],
   "source": [
    "plt.figure(figsize=(8,6))\n",
    "plt.plot(DF.ts)"
   ]
  },
  {
   "cell_type": "code",
   "execution_count": null,
   "id": "3000dd43",
   "metadata": {},
   "outputs": [],
   "source": [
    "## Signal Decomposition (Trend, Seasonality and Residual)"
   ]
  },
  {
   "cell_type": "code",
   "execution_count": null,
   "id": "97954242",
   "metadata": {},
   "outputs": [],
   "source": [
    "#Log Transform"
   ]
  },
  {
   "cell_type": "code",
   "execution_count": null,
   "id": "8968d68e",
   "metadata": {},
   "outputs": [],
   "source": [
    "def log_transform(df, ts): return df[ts].apply(lambda x:np.log(x))"
   ]
  },
  {
   "cell_type": "code",
   "execution_count": null,
   "id": "57b4ce66",
   "metadata": {},
   "outputs": [],
   "source": [
    "DF['ts_log'] = log_transform(DF, ts = 'ts')\n"
   ]
  },
  {
   "cell_type": "code",
   "execution_count": null,
   "id": "511d4a89",
   "metadata": {},
   "outputs": [],
   "source": [
    "from statsmodels.tsa.seasonal import seasonal_decompose"
   ]
  },
  {
   "cell_type": "code",
   "execution_count": null,
   "id": "6ce2f629",
   "metadata": {},
   "outputs": [],
   "source": [
    "decomposition = seasonal_decompose(DF['ts'],period = 4, extrapolate_trend=3)"
   ]
  },
  {
   "cell_type": "code",
   "execution_count": null,
   "id": "362155ad",
   "metadata": {},
   "outputs": [],
   "source": [
    "def plot_decomposition(df, ts, trend,seasonal, residual):\n",
    "  f, ((ax1,ax2),(ax3,ax4)) = plt.subplots(2,2, figsize=(15,8), sharex=True )\n",
    "\n",
    "  ax1.plot(df[ts], label=\"Original\")\n",
    "  ax1.legend(loc='best')\n",
    "  ax1.tick_params(axis ='x', rotation=45)\n",
    "\n",
    "  ax2.plot(df[trend], label=\"Trend\")\n",
    "  ax2.legend(loc='best')\n",
    "  ax2.tick_params(axis ='x', rotation=45)\n",
    "\n",
    "  ax3.plot(df[seasonal], label=\"Seasonal\")\n",
    "  ax3.legend(loc='best')\n",
    "  ax3.tick_params(axis ='x', rotation=45)\n",
    "\n",
    "  ax4.plot(df[residual], label=\"Residuals\")\n",
    "  ax4.legend(loc='best')\n",
    "  ax4.tick_params(axis ='x', rotation=45)\n",
    "\n",
    "  plt.tight_layout()\n",
    "  plt.show()"
   ]
  },
  {
   "cell_type": "code",
   "execution_count": null,
   "id": "d235ec0a",
   "metadata": {},
   "outputs": [],
   "source": [
    "decomposition = seasonal_decompose(DF['ts'],period = 12, extrapolate_trend=3)"
   ]
  },
  {
   "cell_type": "code",
   "execution_count": null,
   "id": "7cf56130",
   "metadata": {},
   "outputs": [],
   "source": [
    "New_DF = DF.copy()\n",
    "New_DF.loc[:,'trend']=decomposition.trend\n",
    "New_DF.loc[:,'seasonal']=decomposition.seasonal\n",
    "New_DF.loc[:, 'residual'] = decomposition.resid\n"
   ]
  },
  {
   "cell_type": "code",
   "execution_count": null,
   "id": "fe276365",
   "metadata": {},
   "outputs": [],
   "source": [
    "New_DF"
   ]
  },
  {
   "cell_type": "code",
   "execution_count": null,
   "id": "565b529a",
   "metadata": {},
   "outputs": [],
   "source": [
    "plot_decomposition(New_DF, ts='ts', trend='trend', seasonal='seasonal', residual='residual')\n"
   ]
  },
  {
   "cell_type": "code",
   "execution_count": null,
   "id": "fa160990",
   "metadata": {},
   "outputs": [],
   "source": [
    "## Stationarity Test"
   ]
  },
  {
   "cell_type": "code",
   "execution_count": null,
   "id": "e70655b1",
   "metadata": {},
   "outputs": [],
   "source": [
    "## Stationairy Test: Dickey Fuller Test"
   ]
  },
  {
   "cell_type": "code",
   "execution_count": null,
   "id": "6bea8540",
   "metadata": {},
   "outputs": [],
   "source": [
    "from statsmodels.tsa.stattools import adfuller"
   ]
  },
  {
   "cell_type": "code",
   "execution_count": null,
   "id": "70cefe96",
   "metadata": {},
   "outputs": [],
   "source": [
    "dftest = adfuller(New_DF['residual'], autolag = 'AIC')"
   ]
  },
  {
   "cell_type": "code",
   "execution_count": null,
   "id": "41f38c54",
   "metadata": {},
   "outputs": [],
   "source": [
    "dftest = adfuller(New_DF['residual'], autolag='AIC')\n"
   ]
  },
  {
   "cell_type": "code",
   "execution_count": null,
   "id": "01865755",
   "metadata": {},
   "outputs": [],
   "source": [
    "def test_stationarity(df, ts):\n",
    "\n",
    "  rolmean = df[ts].rolling(window=12, center= False).mean()\n",
    "  rolstd =  df[ts].rolling(window=12, center = False).std()\n",
    "\n",
    "  orig = plt.plot(df[ts], color = 'blue', label =\"Original\")\n",
    "  mean = plt.plot(rolmean, color ='red', label =\"Rolling Mean\")\n",
    "  std = plt.plot(rolstd, color='black', label =\"Rolling Std\")\n",
    "  plt.legend(loc = 'best')\n",
    "  plt.title(\"Rolling Mean and Standard Deviation for  %s\" %(ts))\n",
    "  plt.xticks(rotation =45)\n",
    "  plt.show(block = False)\n",
    "  plt.close\n",
    "\n",
    "  print('Results:')\n",
    "  dftest = adfuller(df[ts], autolag='AIC')\n",
    "  dfoutput = pd.Series(dftest[0:4], index=[\"Test Statistic\",'p=value','# Lasgs Used',' Number of Observations'])\n",
    "\n",
    "  for key, value in dftest[4].items():\n",
    "    dfoutput['Critical Value(%s)' %key]= value\n",
    "\n",
    "  print(dfoutput)"
   ]
  },
  {
   "cell_type": "code",
   "execution_count": null,
   "id": "45625a9c",
   "metadata": {},
   "outputs": [],
   "source": [
    "test_stationarity(df=New_DF, ts='residual')"
   ]
  },
  {
   "cell_type": "code",
   "execution_count": null,
   "id": "17c6fa56",
   "metadata": {},
   "outputs": [],
   "source": [
    "test_stationarity(df=DF, ts = 'ts')"
   ]
  },
  {
   "cell_type": "code",
   "execution_count": null,
   "id": "d802cc66",
   "metadata": {},
   "outputs": [],
   "source": [
    "## Autocorrelation and Partial Autocorrelation  Plots"
   ]
  },
  {
   "cell_type": "code",
   "execution_count": null,
   "id": "9e3c8213",
   "metadata": {},
   "outputs": [],
   "source": [
    "from statsmodels.graphics.tsaplots import plot_acf, plot_pacf\n",
    "\n",
    "# Create figure\n",
    "fig, (ax1, ax2) = plt.subplots(2, 1, figsize=(12,8))\n",
    "\n",
    "# Plot the ACF of df\n",
    "plot_acf(New_DF['residual'], lags=10, zero=False, ax=ax1);\n",
    "\n",
    "# Plot the PACF of df\n",
    "plot_pacf(New_DF['residual'], lags=10, zero=False, ax=ax2);"
   ]
  },
  {
   "cell_type": "code",
   "execution_count": null,
   "id": "b41f02ec",
   "metadata": {},
   "outputs": [],
   "source": [
    "##Forecasting using ARIMA"
   ]
  },
  {
   "cell_type": "code",
   "execution_count": null,
   "id": "62de9dc0",
   "metadata": {},
   "outputs": [],
   "source": [
    "from statsmodels.tsa.arima.model import ARIMA"
   ]
  },
  {
   "cell_type": "code",
   "execution_count": null,
   "id": "bbdf4bf8",
   "metadata": {},
   "outputs": [],
   "source": [
    "def run_Arima(df,ts,p,d,q):\n",
    "  model =ARIMA(df[ts], order=(p,d,q))\n",
    "  results_arima=model.fit()\n",
    "\n",
    "  len_results =len(results_arima.fittedvalues)\n",
    "  ts_modified =df[ts][-len_results:]\n",
    "\n",
    "  rss = sum((results_arima.fittedvalues-ts_modified)**2)\n",
    "  rmse = np.sqrt(rss/len(df[ts]))\n",
    "  print(\"RMSE: \",rmse)\n",
    "\n",
    "  plt.figure()\n",
    "  plt.plot(df[ts])\n",
    "  plt.plot(results_arima.fittedvalues, color='red')\n",
    "  plt.show()\n",
    "\n",
    "  return results_arima"
   ]
  },
  {
   "cell_type": "code",
   "execution_count": null,
   "id": "790fa051",
   "metadata": {},
   "outputs": [],
   "source": [
    "New_DF = New_DF.fillna(value=0)"
   ]
  },
  {
   "cell_type": "code",
   "execution_count": null,
   "id": "176c34d6",
   "metadata": {},
   "outputs": [],
   "source": [
    "Model_AR = run_Arima(df = New_DF, ts='residual', p=15, d=0, q=0)"
   ]
  },
  {
   "cell_type": "code",
   "execution_count": null,
   "id": "d321eb84",
   "metadata": {},
   "outputs": [],
   "source": [
    "my_forecast = Model_AR.forecast(48)"
   ]
  },
  {
   "cell_type": "code",
   "execution_count": null,
   "id": "66f44644",
   "metadata": {},
   "outputs": [],
   "source": [
    "plt.figure()\n",
    "plt.plot(New_DF['residual'])\n",
    "plt.plot(my_forecast, color='green')"
   ]
  },
  {
   "cell_type": "code",
   "execution_count": null,
   "id": "4dd613b3",
   "metadata": {},
   "outputs": [],
   "source": [
    "Model_AR.summary()"
   ]
  },
  {
   "cell_type": "code",
   "execution_count": null,
   "id": "b7ea2317",
   "metadata": {},
   "outputs": [],
   "source": [
    "Model_AR.conf_int(alpha = 0.05)"
   ]
  },
  {
   "cell_type": "code",
   "execution_count": null,
   "id": "1edb0a21",
   "metadata": {},
   "outputs": [],
   "source": [
    "from statsmodels.graphics.tsaplots import plot_predict"
   ]
  },
  {
   "cell_type": "code",
   "execution_count": null,
   "id": "13018d11",
   "metadata": {},
   "outputs": [],
   "source": [
    "fig, ax = plt.subplots()\n",
    "ax = New_DF['residual'].plot(ax=ax)\n",
    "plot_predict(Model_AR,390,450, ax=ax)\n",
    "plt.show()"
   ]
  },
  {
   "cell_type": "code",
   "execution_count": null,
   "id": "afe1af91",
   "metadata": {},
   "outputs": [],
   "source": []
  }
 ],
 "metadata": {
  "accelerator": "GPU",
  "colab": {
   "gpuType": "T4",
   "provenance": []
  },
  "kernelspec": {
   "display_name": "tf-env311 (3.13.7)",
   "language": "python",
   "name": "python3"
  },
  "language_info": {
   "codemirror_mode": {
    "name": "ipython",
    "version": 3
   },
   "file_extension": ".py",
   "mimetype": "text/x-python",
   "name": "python",
   "nbconvert_exporter": "python",
   "pygments_lexer": "ipython3",
   "version": "3.13.8"
  }
 },
 "nbformat": 4,
 "nbformat_minor": 5
}
