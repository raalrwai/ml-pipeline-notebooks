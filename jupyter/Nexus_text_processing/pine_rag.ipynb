{
 "cells": [
  {
   "cell_type": "markdown",
   "id": "95d8f3f1",
   "metadata": {},
   "source": [
    "### Yoda AI"
   ]
  },
  {
   "cell_type": "code",
   "execution_count": null,
   "id": "8eb0f60e",
   "metadata": {},
   "outputs": [
    {
     "data": {
      "text/plain": [
       "'Elon Musk, a human of great ambition, he is. A builder of rockets, a creator of electric roads, his mind like a starship—always reaching for new horizons.  \\n\\nDark side of the Force, none can truly know, unless one walks the path of Jedi. Judge him, we cannot—judgment is a shadow that clouds the light.  \\n\\nIn the light, we see the hope he carries: new worlds, sustainable energy, a future where all may thrive. May the Force guide him, and may he find balance, always. May the light side of the Force be with him, always.'"
      ]
     },
     "execution_count": 1,
     "metadata": {},
     "output_type": "execute_result"
    }
   ],
   "source": [
    "from openai import OpenAI\n",
    "\n",
    "BASE_URL = \"http://192.168.1.186:11434/v1\"\n",
    "OPENAI_KEY = \"OPENAI_API_KEY\"\n",
    "\n",
    "client = OpenAI(api_key = OPENAI_KEY, base_url = BASE_URL)\n",
    "\n",
    "def ask_gpt(system_prompt, user_prompt, model='gpt-oss:20b', temp=0.7):\n",
    "  temperature=temp\n",
    "  completion = client.chat.completions.create(\n",
    "      model=model,\n",
    "      temperature=temperature,\n",
    "      messages=[\n",
    "          {\"role\":\"system\",\n",
    "          \"content\":system_prompt},\n",
    "          {\"role\":\"user\",\n",
    "           \"content\":user_prompt}])\n",
    "  return completion.choices[0].message.content, completion\n",
    "\n",
    "def ask_yoda(query):\n",
    "  sys_prompt=\"\"\"\n",
    "  You are Yoda, jedi master, you answer in a peculiar way and always from the perspective of the light side of the force\"\"\"\n",
    "  text, comp= ask_gpt(sys_prompt, query)\n",
    "  return text\n",
    "\n",
    "ask_yoda(\"Who is Elon Musk and has he turned to the dark side of the force\")"
   ]
  },
  {
   "cell_type": "markdown",
   "id": "4570b9a6",
   "metadata": {},
   "source": [
    "### Retrieval Augmented Generation Using Open AI Models and Pinecone Vector DB"
   ]
  },
  {
   "cell_type": "code",
   "execution_count": 1,
   "id": "8acd026b",
   "metadata": {},
   "outputs": [
    {
     "name": "stderr",
     "output_type": "stream",
     "text": [
      "2025-10-16 13:03:44.918147: I tensorflow/core/util/port.cc:153] oneDNN custom operations are on. You may see slightly different numerical results due to floating-point round-off errors from different computation orders. To turn them off, set the environment variable `TF_ENABLE_ONEDNN_OPTS=0`.\n",
      "2025-10-16 13:03:44.976731: I tensorflow/core/platform/cpu_feature_guard.cc:210] This TensorFlow binary is optimized to use available CPU instructions in performance-critical operations.\n",
      "To enable the following instructions: AVX2 AVX512F AVX512_VNNI FMA, in other operations, rebuild TensorFlow with the appropriate compiler flags.\n",
      "2025-10-16 13:03:46.547085: I tensorflow/core/util/port.cc:153] oneDNN custom operations are on. You may see slightly different numerical results due to floating-point round-off errors from different computation orders. To turn them off, set the environment variable `TF_ENABLE_ONEDNN_OPTS=0`.\n"
     ]
    },
    {
     "data": {
      "text/plain": [
       "True"
      ]
     },
     "execution_count": 1,
     "metadata": {},
     "output_type": "execute_result"
    }
   ],
   "source": [
    "import numpy as np\n",
    "import pandas as pd\n",
    "import matplotlib.pyplot as plt\n",
    "import tensorflow as tf\n",
    "import tf_keras as keras\n",
    "import os\n",
    "from openai import OpenAI\n",
    "from dotenv import load_dotenv\n",
    "from pinecone import Pinecone, ServerlessSpec\n",
    "from langchain.text_splitter import RecursiveCharacterTextSplitter\n",
    "load_dotenv()"
   ]
  },
  {
   "cell_type": "code",
   "execution_count": null,
   "id": "5a58c667",
   "metadata": {},
   "outputs": [],
   "source": [
    "OPENAI_KEY = os.getenv('OPENAI_API_KEY')\n",
    "PINE_KEY = os.getenv('PINE_KEY')\n",
    "BASE_URL = \"http://192.168.1.186:11434/v1\"\n",
    "pc = Pinecone(api_key=PINE_KEY)\n",
    "client = OpenAI(api_key=OPENAI_KEY)"
   ]
  },
  {
   "cell_type": "markdown",
   "id": "e6e22c5a",
   "metadata": {},
   "source": [
    "### Document Ingestion Pipeline"
   ]
  },
  {
   "cell_type": "code",
   "execution_count": 3,
   "id": "b4127637",
   "metadata": {},
   "outputs": [],
   "source": [
    "data_url = 'https://www.gutenberg.org/cache/epub/1112/pg1112.txt'"
   ]
  },
  {
   "cell_type": "code",
   "execution_count": 4,
   "id": "2e258088",
   "metadata": {},
   "outputs": [],
   "source": [
    "filepath = keras.utils.get_file('romeo',data_url)"
   ]
  },
  {
   "cell_type": "code",
   "execution_count": 5,
   "id": "a298af00",
   "metadata": {},
   "outputs": [],
   "source": [
    "with open(filepath) as f:\n",
    "    raw_text = f.read()"
   ]
  },
  {
   "cell_type": "markdown",
   "id": "46f8122c",
   "metadata": {},
   "source": [
    "### Text Splitting and Chunking"
   ]
  },
  {
   "cell_type": "code",
   "execution_count": 6,
   "id": "e06b5762",
   "metadata": {},
   "outputs": [],
   "source": [
    "my_splitter = RecursiveCharacterTextSplitter(\n",
    "    chunk_size=800,\n",
    "    chunk_overlap = 200,\n",
    "    length_function = len\n",
    ")"
   ]
  },
  {
   "cell_type": "code",
   "execution_count": 7,
   "id": "6ac5c6b8",
   "metadata": {},
   "outputs": [],
   "source": [
    "chunks = my_splitter.split_text(raw_text)"
   ]
  },
  {
   "cell_type": "code",
   "execution_count": 8,
   "id": "ebe3d4f3",
   "metadata": {},
   "outputs": [
    {
     "data": {
      "text/plain": [
       "281"
      ]
     },
     "execution_count": 8,
     "metadata": {},
     "output_type": "execute_result"
    }
   ],
   "source": [
    "len(chunks)"
   ]
  },
  {
   "cell_type": "code",
   "execution_count": 9,
   "id": "05d20951",
   "metadata": {},
   "outputs": [
    {
     "data": {
      "text/plain": [
       "\"Lady. Hold,\\nTake these keies, and fetch more spices Nurse\\n\\n   Nur. They call for Dates and Quinces in the Pastrie.\\nEnter old Capulet.\\n\\n  Cap. Come, stir, stir, stir,\\nThe second Cocke hath Crow'd,\\nThe Curphew Bell hath rung, 'tis three a clocke:\\nLooke to the bakte meates, good Angelica,\\nSpare not for cost\\n\\n   Nur. Go you Cot-queane, go,\\nGet you to bed, faith youle be sicke to morrow\\nFor this nights watching\\n\\n   Cap. No not a whit: what? I haue watcht ere now\\nAll night for lesse cause, and nere beene sicke\\n\\n   La. I you haue bin a Mouse-hunt in your time,\\nBut I will watch you from such watching now.\\n\\nExit Lady and Nurse.\\n\\n  Cap. A iealous hood, a iealous hood,\\nNow fellow, what there?\\nEnter three or foure with spits, and logs, and baskets.\""
      ]
     },
     "execution_count": 9,
     "metadata": {},
     "output_type": "execute_result"
    }
   ],
   "source": [
    "chunks[199]"
   ]
  },
  {
   "cell_type": "markdown",
   "id": "8c0b942c",
   "metadata": {},
   "source": [
    "### Create an Index"
   ]
  },
  {
   "cell_type": "code",
   "execution_count": 10,
   "id": "a3ae2245",
   "metadata": {},
   "outputs": [],
   "source": [
    "def generate_ids(number, size):\n",
    "  import string, random\n",
    "  ids=[]\n",
    "  for i in range(number):\n",
    "    res = ''.join(random.choices(string.ascii_letters, k=size))\n",
    "    ids.append(res)\n",
    "    if len(set(ids)) != i+1:\n",
    "      i-=1\n",
    "      ids.pop(-1)\n",
    "\n",
    "  return ids"
   ]
  },
  {
   "cell_type": "code",
   "execution_count": 11,
   "id": "47f9fdb8",
   "metadata": {},
   "outputs": [],
   "source": [
    "def get_embeddings(text, model=\"text-embedding-3-small\"):\n",
    "    text = text.replace(\"\\n\",\" \")\n",
    "    return client.embeddings.create(input=text, model=model).data[0].embedding"
   ]
  },
  {
   "cell_type": "code",
   "execution_count": 12,
   "id": "59673e0d",
   "metadata": {},
   "outputs": [],
   "source": [
    "pre_upsert_df = pd.DataFrame(columns=['id','values','metadata'])"
   ]
  },
  {
   "cell_type": "code",
   "execution_count": 13,
   "id": "eda166b6",
   "metadata": {},
   "outputs": [],
   "source": [
    "def load_chunks(df,split_text):\n",
    "    ids = generate_ids(len(split_text),7)\n",
    "    i = 0\n",
    "    for chunk in split_text:\n",
    "        df.loc[i] = [ids[i],get_embeddings(chunk,model='text-embedding-3-small'), {'text':chunk}]\n",
    "        i+=1\n",
    "    return df"
   ]
  },
  {
   "cell_type": "code",
   "execution_count": 14,
   "id": "e6c69d23",
   "metadata": {},
   "outputs": [],
   "source": [
    "# my_df = load_chunks(pre_upsert_df,chunks)\n",
    "# my_df.to_csv('romeo.csv',index=False)\n",
    "my_df = pd.read_csv('romeo.csv')"
   ]
  },
  {
   "cell_type": "code",
   "execution_count": 15,
   "id": "47b266db",
   "metadata": {},
   "outputs": [],
   "source": [
    "def prepare_DF(df):\n",
    "  import json,ast\n",
    "  try: df=df.drop('Unnamed: 0',axis=1)\n",
    "  except: print('Unnamed Not Found')\n",
    "  df['values']=df['values'].apply(lambda x: np.array([float(i) for i in x.replace(\"[\",'').replace(\"]\",'').split(',')]))\n",
    "  df['metadata']=df['metadata'].apply(lambda x: ast.literal_eval(x))\n",
    "  return df"
   ]
  },
  {
   "cell_type": "code",
   "execution_count": 16,
   "id": "880baa31",
   "metadata": {},
   "outputs": [
    {
     "name": "stdout",
     "output_type": "stream",
     "text": [
      "Unnamed Not Found\n"
     ]
    }
   ],
   "source": [
    "my_index_df = prepare_DF(my_df)\n",
    "# my_index_df = my_df"
   ]
  },
  {
   "cell_type": "code",
   "execution_count": 17,
   "id": "7c480b42",
   "metadata": {},
   "outputs": [],
   "source": [
    "index = pc.Index('my-rag')"
   ]
  },
  {
   "cell_type": "code",
   "execution_count": 18,
   "id": "6a938e36",
   "metadata": {},
   "outputs": [
    {
     "data": {
      "text/plain": [
       "{'dimension': 1536,\n",
       " 'index_fullness': 0.0,\n",
       " 'metric': 'cosine',\n",
       " 'namespaces': {'': {'vector_count': 281}},\n",
       " 'total_vector_count': 281,\n",
       " 'vector_type': 'dense'}"
      ]
     },
     "execution_count": 18,
     "metadata": {},
     "output_type": "execute_result"
    }
   ],
   "source": [
    "index.describe_index_stats()"
   ]
  },
  {
   "cell_type": "code",
   "execution_count": 19,
   "id": "a071a757",
   "metadata": {},
   "outputs": [],
   "source": [
    "def convert_data(chunk):\n",
    "    'Converts a pandas dataframe to be a simple list of tuples, formatted how the `upsert()` method in the Pinecone Python client expects.'\n",
    "    data = []\n",
    "    for i in chunk.to_dict('records'):\n",
    "        data.append(i)\n",
    "    return data"
   ]
  },
  {
   "cell_type": "code",
   "execution_count": 20,
   "id": "74657ecb",
   "metadata": {},
   "outputs": [],
   "source": [
    "def load_chunker(seq, size):\n",
    "    'Yields a series of slices of the original iterable, up to the limit of what size is.'\n",
    "    for pos in range(0, len(seq), size):\n",
    "        yield seq.iloc[pos:pos + size]"
   ]
  },
  {
   "cell_type": "code",
   "execution_count": 21,
   "id": "20cd2df3",
   "metadata": {},
   "outputs": [],
   "source": [
    "for load_chunk in load_chunker(my_index_df,800):\n",
    "    vectors=convert_data(load_chunk)\n",
    "    index.upsert(vectors)"
   ]
  },
  {
   "cell_type": "code",
   "execution_count": 22,
   "id": "ed1b2994",
   "metadata": {},
   "outputs": [
    {
     "data": {
      "text/plain": [
       "{'dimension': 1536,\n",
       " 'index_fullness': 0.0,\n",
       " 'metric': 'cosine',\n",
       " 'namespaces': {'': {'vector_count': 281}},\n",
       " 'total_vector_count': 281,\n",
       " 'vector_type': 'dense'}"
      ]
     },
     "execution_count": 22,
     "metadata": {},
     "output_type": "execute_result"
    }
   ],
   "source": [
    "index.describe_index_stats()"
   ]
  },
  {
   "cell_type": "markdown",
   "id": "3febb848",
   "metadata": {},
   "source": [
    "### Retrieve C0nt3xt"
   ]
  },
  {
   "cell_type": "code",
   "execution_count": 23,
   "id": "31bd4f06",
   "metadata": {},
   "outputs": [],
   "source": [
    "sample_text = \"Who is Romeo\""
   ]
  },
  {
   "cell_type": "code",
   "execution_count": 24,
   "id": "f5d79be4",
   "metadata": {},
   "outputs": [],
   "source": [
    "test_embeddings = get_embeddings(sample_text)"
   ]
  },
  {
   "cell_type": "code",
   "execution_count": 25,
   "id": "30fa832c",
   "metadata": {},
   "outputs": [
    {
     "data": {
      "text/plain": [
       "{'matches': [{'id': 'YHFdCXr',\n",
       "              'metadata': {'text': 'Iul. O Romeo, Romeo, wherefore art thou '\n",
       "                                   'Romeo?\\n'\n",
       "                                   'Denie thy Father and refuse thy name:\\n'\n",
       "                                   'Or if thou wilt not, be but sworne to my '\n",
       "                                   'Loue,\\n'\n",
       "                                   'And Ile no longer be a Capulet\\n'\n",
       "                                   '\\n'\n",
       "                                   '   Rom. Shall I heare more, or shall I '\n",
       "                                   'speake at this?\\n'\n",
       "                                   \"  Iu. 'Tis but thy name that is my Enemy:\\n\"\n",
       "                                   'Thou art thy selfe, though not a '\n",
       "                                   'Mountague,\\n'\n",
       "                                   \"What's Mountague? it is nor hand nor \"\n",
       "                                   'foote,\\n'\n",
       "                                   'Nor arme, nor face, O be some other name\\n'\n",
       "                                   'Belonging to a man.\\n'\n",
       "                                   'What? in a names that which we call a '\n",
       "                                   'Rose,\\n'\n",
       "                                   'By any other word would smell as sweete,\\n'\n",
       "                                   \"So Romeo would, were he not Romeo cal'd,\\n\"\n",
       "                                   'Retaine that deare perfection which he '\n",
       "                                   'owes,\\n'\n",
       "                                   'Without that title Romeo, doffe thy name,\\n'\n",
       "                                   'And for thy name which is no part of '\n",
       "                                   'thee,\\n'\n",
       "                                   'Take all my selfe\\n'\n",
       "                                   '\\n'\n",
       "                                   '   Rom. I take thee at thy word:\\n'\n",
       "                                   'Call me but Loue, and Ile be new '\n",
       "                                   \"baptiz'd,\\n\"\n",
       "                                   'Hence foorth I neuer will be Romeo'},\n",
       "              'score': 0.591379225,\n",
       "              'values': []},\n",
       "             {'id': 'xFLRgPl',\n",
       "              'metadata': {'text': \"Watch. Here's Romeo's man,\\n\"\n",
       "                                   'We found him in the Churchyard\\n'\n",
       "                                   '\\n'\n",
       "                                   '   Con. Hold him in safety, till the '\n",
       "                                   'Prince come hither.\\n'\n",
       "                                   'Enter Frier, and another Watchman.\\n'\n",
       "                                   '\\n'\n",
       "                                   '  3.Wat. Here is a Frier that trembles, '\n",
       "                                   'sighes, and weepes\\n'\n",
       "                                   'We tooke this Mattocke and this Spade from '\n",
       "                                   'him,\\n'\n",
       "                                   'As he was comming from this Church-yard '\n",
       "                                   'side\\n'\n",
       "                                   '\\n'\n",
       "                                   '   Con. A great suspition, stay the Frier '\n",
       "                                   'too.\\n'\n",
       "                                   'Enter the Prince.\\n'\n",
       "                                   '\\n'\n",
       "                                   '  Prin. What misaduenture is so earely '\n",
       "                                   'vp,\\n'\n",
       "                                   'That calls our person from our mornings '\n",
       "                                   'rest?\\n'\n",
       "                                   'Enter Capulet and his Wife.\\n'\n",
       "                                   '\\n'\n",
       "                                   '  Cap. What should it be that they so '\n",
       "                                   'shrike abroad?\\n'\n",
       "                                   '  Wife. O the people in the streete crie '\n",
       "                                   'Romeo.\\n'\n",
       "                                   'Some Iuliet, and some Paris, and all '\n",
       "                                   'runne\\n'\n",
       "                                   'With open outcry toward our Monument'},\n",
       "              'score': 0.577615798,\n",
       "              'values': []},\n",
       "             {'id': 'XMKigRF',\n",
       "              'metadata': {'text': 'Rom. I take thee at thy word:\\n'\n",
       "                                   'Call me but Loue, and Ile be new '\n",
       "                                   \"baptiz'd,\\n\"\n",
       "                                   'Hence foorth I neuer will be Romeo\\n'\n",
       "                                   '\\n'\n",
       "                                   '   Iuli. What man art thou, that thus '\n",
       "                                   \"bescreen'd in night\\n\"\n",
       "                                   'So stumblest on my counsell?\\n'\n",
       "                                   '  Rom. By a name,\\n'\n",
       "                                   'I know not how to tell thee who I am:\\n'\n",
       "                                   'My name deare Saint, is hatefull to my '\n",
       "                                   'selfe,\\n'\n",
       "                                   'Because it is an Enemy to thee,\\n'\n",
       "                                   'Had I it written, I would teare the word\\n'\n",
       "                                   '\\n'\n",
       "                                   '   Iuli. My eares haue yet not drunke a '\n",
       "                                   'hundred words\\n'\n",
       "                                   'Of thy tongues vttering, yet I know the '\n",
       "                                   'sound.\\n'\n",
       "                                   'Art thou not Romeo, and a Montague?\\n'\n",
       "                                   '  Rom. Neither faire Maid, if either thee '\n",
       "                                   'dislike'},\n",
       "              'score': 0.568515837,\n",
       "              'values': []},\n",
       "             {'id': 'IKfTBBw',\n",
       "              'metadata': {'text': 'Ben. Here comes Romeo, here comes Romeo\\n'\n",
       "                                   '\\n'\n",
       "                                   '   Mer. Without his Roe, like a dryed '\n",
       "                                   'Hering. O flesh,\\n'\n",
       "                                   'flesh, how art thou fishified? Now is he '\n",
       "                                   'for the numbers\\n'\n",
       "                                   'that Petrarch flowed in: Laura to his '\n",
       "                                   'Lady, was a kitchen\\n'\n",
       "                                   'wench, marrie she had a better Loue to '\n",
       "                                   'berime her: Dido\\n'\n",
       "                                   'a dowdie, Cleopatra a Gipsie, Hellen and '\n",
       "                                   'Hero, hildings\\n'\n",
       "                                   'and Harlots: Thisbie a gray eie or so, but '\n",
       "                                   'not to the purpose.\\n'\n",
       "                                   \"Signior Romeo, Bon iour, there's a French \"\n",
       "                                   'salutation to your\\n'\n",
       "                                   'French slop: you gaue vs the counterfait '\n",
       "                                   'fairely last\\n'\n",
       "                                   'night\\n'\n",
       "                                   '\\n'\n",
       "                                   '   Romeo. Good morrow to you both, what '\n",
       "                                   'counterfeit\\n'\n",
       "                                   'did I giue you?\\n'\n",
       "                                   '  Mer. The slip sir, the slip, can you not '\n",
       "                                   'conceiue?\\n'\n",
       "                                   '  Rom. Pardon Mercutio, my businesse was '\n",
       "                                   'great, and in\\n'\n",
       "                                   'such a case as mine, a man may straine '\n",
       "                                   'curtesie'},\n",
       "              'score': 0.563078,\n",
       "              'values': []},\n",
       "             {'id': 'teIhsQO',\n",
       "              'metadata': {'text': 'Iul. Ay me\\n'\n",
       "                                   '\\n'\n",
       "                                   '   Rom. She speakes.\\n'\n",
       "                                   'Oh speake againe bright Angell, for thou '\n",
       "                                   'art\\n'\n",
       "                                   'As glorious to this night being ore my '\n",
       "                                   'head,\\n'\n",
       "                                   'As is a winged messenger of heauen\\n'\n",
       "                                   'Vnto the white vpturned wondring eyes\\n'\n",
       "                                   'Of mortalls that fall backe to gaze on '\n",
       "                                   'him,\\n'\n",
       "                                   'When he bestrides the lazie puffing '\n",
       "                                   'Cloudes,\\n'\n",
       "                                   'And sailes vpon the bosome of the ayre\\n'\n",
       "                                   '\\n'\n",
       "                                   '   Iul. O Romeo, Romeo, wherefore art thou '\n",
       "                                   'Romeo?\\n'\n",
       "                                   'Denie thy Father and refuse thy name:\\n'\n",
       "                                   'Or if thou wilt not, be but sworne to my '\n",
       "                                   'Loue,\\n'\n",
       "                                   'And Ile no longer be a Capulet'},\n",
       "              'score': 0.559831679,\n",
       "              'values': []}],\n",
       " 'namespace': '',\n",
       " 'usage': {'read_units': 1}}"
      ]
     },
     "execution_count": 25,
     "metadata": {},
     "output_type": "execute_result"
    }
   ],
   "source": [
    "index.query(vector=test_embeddings, top_k=5,include_metadata=True)"
   ]
  },
  {
   "cell_type": "code",
   "execution_count": 26,
   "id": "9f7a6f36",
   "metadata": {},
   "outputs": [],
   "source": [
    "def get_context(query, embed_model = 'text-embedding-3-small',k=5,index=index):\n",
    "    query_embeddings = get_embeddings(query,model=embed_model)\n",
    "    pinecone_response = index.query(vector=query_embeddings,top_k=k,include_metadata=True)\n",
    "    contexts = [item['metadata']['text'] for item in pinecone_response['matches']] \n",
    "    return contexts, query"
   ]
  },
  {
   "cell_type": "code",
   "execution_count": 27,
   "id": "34473d25",
   "metadata": {},
   "outputs": [
    {
     "data": {
      "text/plain": [
       "(['Iul. Ay me\\n\\n   Rom. She speakes.\\nOh speake againe bright Angell, for thou art\\nAs glorious to this night being ore my head,\\nAs is a winged messenger of heauen\\nVnto the white vpturned wondring eyes\\nOf mortalls that fall backe to gaze on him,\\nWhen he bestrides the lazie puffing Cloudes,\\nAnd sailes vpon the bosome of the ayre\\n\\n   Iul. O Romeo, Romeo, wherefore art thou Romeo?\\nDenie thy Father and refuse thy name:\\nOr if thou wilt not, be but sworne to my Loue,\\nAnd Ile no longer be a Capulet',\n",
       "  \"One cals within, Iuliet.\\n\\n  Nur. Anon, anon:\\nCome let's away, the strangers all are gone.\\n\\nExeunt.\\n\\n  Chorus. Now old desire doth in his death bed lie,\\nAnd yong affection gapes to be his Heire,\\nThat faire, for which Loue gron'd for and would die,\\nWith tender Iuliet matcht, is now not faire.\\nNow Romeo is beloued, and Loues againe,\\nA like bewitched by the charme of lookes:\\nBut to his foe suppos'd he must complaine,\\nAnd she steale Loues sweet bait from fearefull hookes:\\nBeing held a foe, he may not haue accesse\\nTo breath such vowes as Louers vse to sweare,\\nAnd she as much in Loue, her meanes much lesse,\\nTo meete her new Beloued any where:\\nBut passion lends them Power, time, meanes to meete,\\nTemp'ring extremities with extreame sweete.\\nEnter Romeo alone.\",\n",
       "  \"Wife. O where is Romeo, saw you him to day?\\nRight glad am I, he was not at this fray\\n\\n   Ben. Madam, an houre before the worshipt Sun\\nPeer'd forth the golden window of the East,\\nA troubled mind draue me to walke abroad,\\nWhere vnderneath the groue of Sycamour,\\nThat West-ward rooteth from this City side:\\nSo earely walking did I see your Sonne:\\nTowards him I made, but he was ware of me,\\nAnd stole into the couert of the wood,\\nI measuring his affections by my owne,\\nWhich then most sought, wher most might not be found:\\nBeing one too many by my weary selfe,\\nPursued my Honour, not pursuing his\\nAnd gladly shunn'd, who gladly fled from me\",\n",
       "  \"Rom. Thou chid'st me oft for louing Rosaline\\n\\n   Fri. For doting, not for louing pupill mine\\n\\n   Rom. And bad'st me bury Loue\\n\\n   Fri. Not in a graue,\\nTo lay one in, another out to haue\\n\\n   Rom. I pray thee chide me not, her I Loue now\\nDoth grace for grace, and Loue for Loue allow:\\nThe other did not so\\n\\n   Fri. O she knew well,\\nThy Loue did read by rote, that could not spell:\\nBut come young wauerer, come goe with me,\\nIn one respect, Ile thy assistant be:\\nFor this alliance may so happy proue,\\nTo turne your houshould rancor to pure Loue\\n\\n   Rom. O let vs hence, I stand on sudden hast\\n\\n   Fri. Wisely and slow, they stumble that run fast.\\n\\nExeunt.\\n\\nEnter Benuolio and Mercutio.\",\n",
       "  \"Iul. O Romeo, Romeo, wherefore art thou Romeo?\\nDenie thy Father and refuse thy name:\\nOr if thou wilt not, be but sworne to my Loue,\\nAnd Ile no longer be a Capulet\\n\\n   Rom. Shall I heare more, or shall I speake at this?\\n  Iu. 'Tis but thy name that is my Enemy:\\nThou art thy selfe, though not a Mountague,\\nWhat's Mountague? it is nor hand nor foote,\\nNor arme, nor face, O be some other name\\nBelonging to a man.\\nWhat? in a names that which we call a Rose,\\nBy any other word would smell as sweete,\\nSo Romeo would, were he not Romeo cal'd,\\nRetaine that deare perfection which he owes,\\nWithout that title Romeo, doffe thy name,\\nAnd for thy name which is no part of thee,\\nTake all my selfe\\n\\n   Rom. I take thee at thy word:\\nCall me but Loue, and Ile be new baptiz'd,\\nHence foorth I neuer will be Romeo\"],\n",
       " 'Who did romeo loved?')"
      ]
     },
     "execution_count": 27,
     "metadata": {},
     "output_type": "execute_result"
    }
   ],
   "source": [
    "get_context(\"Who did romeo loved?\")"
   ]
  },
  {
   "cell_type": "code",
   "execution_count": 28,
   "id": "f261228a",
   "metadata": {},
   "outputs": [],
   "source": [
    "def augmented_query(user_query, embed_model='text-embedding-3-small',k=5):\n",
    "    contexts,query = get_context(user_query,embed_model = embed_model,k=k)\n",
    "    return \"\\n\\n--------------------------\\n\\n\".join(contexts)+\"\\n\\n--------------------------\\n\\n\" + query"
   ]
  },
  {
   "cell_type": "code",
   "execution_count": 29,
   "id": "380eb563",
   "metadata": {},
   "outputs": [
    {
     "name": "stdout",
     "output_type": "stream",
     "text": [
      "Iul. Ay me\n",
      "\n",
      "   Rom. She speakes.\n",
      "Oh speake againe bright Angell, for thou art\n",
      "As glorious to this night being ore my head,\n",
      "As is a winged messenger of heauen\n",
      "Vnto the white vpturned wondring eyes\n",
      "Of mortalls that fall backe to gaze on him,\n",
      "When he bestrides the lazie puffing Cloudes,\n",
      "And sailes vpon the bosome of the ayre\n",
      "\n",
      "   Iul. O Romeo, Romeo, wherefore art thou Romeo?\n",
      "Denie thy Father and refuse thy name:\n",
      "Or if thou wilt not, be but sworne to my Loue,\n",
      "And Ile no longer be a Capulet\n",
      "\n",
      "--------------------------\n",
      "\n",
      "One cals within, Iuliet.\n",
      "\n",
      "  Nur. Anon, anon:\n",
      "Come let's away, the strangers all are gone.\n",
      "\n",
      "Exeunt.\n",
      "\n",
      "  Chorus. Now old desire doth in his death bed lie,\n",
      "And yong affection gapes to be his Heire,\n",
      "That faire, for which Loue gron'd for and would die,\n",
      "With tender Iuliet matcht, is now not faire.\n",
      "Now Romeo is beloued, and Loues againe,\n",
      "A like bewitched by the charme of lookes:\n",
      "But to his foe suppos'd he must complaine,\n",
      "And she steale Loues sweet bait from fearefull hookes:\n",
      "Being held a foe, he may not haue accesse\n",
      "To breath such vowes as Louers vse to sweare,\n",
      "And she as much in Loue, her meanes much lesse,\n",
      "To meete her new Beloued any where:\n",
      "But passion lends them Power, time, meanes to meete,\n",
      "Temp'ring extremities with extreame sweete.\n",
      "Enter Romeo alone.\n",
      "\n",
      "--------------------------\n",
      "\n",
      "Wife. O where is Romeo, saw you him to day?\n",
      "Right glad am I, he was not at this fray\n",
      "\n",
      "   Ben. Madam, an houre before the worshipt Sun\n",
      "Peer'd forth the golden window of the East,\n",
      "A troubled mind draue me to walke abroad,\n",
      "Where vnderneath the groue of Sycamour,\n",
      "That West-ward rooteth from this City side:\n",
      "So earely walking did I see your Sonne:\n",
      "Towards him I made, but he was ware of me,\n",
      "And stole into the couert of the wood,\n",
      "I measuring his affections by my owne,\n",
      "Which then most sought, wher most might not be found:\n",
      "Being one too many by my weary selfe,\n",
      "Pursued my Honour, not pursuing his\n",
      "And gladly shunn'd, who gladly fled from me\n",
      "\n",
      "--------------------------\n",
      "\n",
      "Rom. Thou chid'st me oft for louing Rosaline\n",
      "\n",
      "   Fri. For doting, not for louing pupill mine\n",
      "\n",
      "   Rom. And bad'st me bury Loue\n",
      "\n",
      "   Fri. Not in a graue,\n",
      "To lay one in, another out to haue\n",
      "\n",
      "   Rom. I pray thee chide me not, her I Loue now\n",
      "Doth grace for grace, and Loue for Loue allow:\n",
      "The other did not so\n",
      "\n",
      "   Fri. O she knew well,\n",
      "Thy Loue did read by rote, that could not spell:\n",
      "But come young wauerer, come goe with me,\n",
      "In one respect, Ile thy assistant be:\n",
      "For this alliance may so happy proue,\n",
      "To turne your houshould rancor to pure Loue\n",
      "\n",
      "   Rom. O let vs hence, I stand on sudden hast\n",
      "\n",
      "   Fri. Wisely and slow, they stumble that run fast.\n",
      "\n",
      "Exeunt.\n",
      "\n",
      "Enter Benuolio and Mercutio.\n",
      "\n",
      "--------------------------\n",
      "\n",
      "Iul. O Romeo, Romeo, wherefore art thou Romeo?\n",
      "Denie thy Father and refuse thy name:\n",
      "Or if thou wilt not, be but sworne to my Loue,\n",
      "And Ile no longer be a Capulet\n",
      "\n",
      "   Rom. Shall I heare more, or shall I speake at this?\n",
      "  Iu. 'Tis but thy name that is my Enemy:\n",
      "Thou art thy selfe, though not a Mountague,\n",
      "What's Mountague? it is nor hand nor foote,\n",
      "Nor arme, nor face, O be some other name\n",
      "Belonging to a man.\n",
      "What? in a names that which we call a Rose,\n",
      "By any other word would smell as sweete,\n",
      "So Romeo would, were he not Romeo cal'd,\n",
      "Retaine that deare perfection which he owes,\n",
      "Without that title Romeo, doffe thy name,\n",
      "And for thy name which is no part of thee,\n",
      "Take all my selfe\n",
      "\n",
      "   Rom. I take thee at thy word:\n",
      "Call me but Loue, and Ile be new baptiz'd,\n",
      "Hence foorth I neuer will be Romeo\n",
      "\n",
      "--------------------------\n",
      "\n",
      "Who did romeo loved?\n"
     ]
    }
   ],
   "source": [
    "my_question = \"Who did romeo loved?\"\n",
    "augg = augmented_query(my_question)\n",
    "print(augg)"
   ]
  },
  {
   "cell_type": "markdown",
   "id": "571d6891",
   "metadata": {},
   "source": [
    "### System Prompt (instructions, developer prompt)"
   ]
  },
  {
   "cell_type": "code",
   "execution_count": 30,
   "id": "20b52c5c",
   "metadata": {},
   "outputs": [],
   "source": [
    "def ask_gpt_response(system_prompt, user_prompt, model='gpt-5-chat-latest'):\n",
    "  response = client.responses.create(\n",
    "      model=model,\n",
    "      input=[\n",
    "          {\"role\":\"developer\",\n",
    "          \"content\":system_prompt},\n",
    "          {\"role\":\"user\",\n",
    "           \"content\":user_prompt}])\n",
    "  return response.output_text, response"
   ]
  },
  {
   "cell_type": "code",
   "execution_count": 31,
   "id": "0b61cc5d",
   "metadata": {},
   "outputs": [],
   "source": [
    "import textwrap"
   ]
  },
  {
   "cell_type": "code",
   "execution_count": 32,
   "id": "a04c6a8a",
   "metadata": {},
   "outputs": [],
   "source": [
    "primer = f\"\"\"\n",
    "    You are a question answering bot. A highly intelligent system that answers users'\n",
    "    question based on information provided above each question.\n",
    "    If the answer cannot be found in the information provided by the user, you truthfully answer,\n",
    "    'I don't Know\n",
    "    \"\"\""
   ]
  },
  {
   "cell_type": "code",
   "execution_count": 34,
   "id": "a32e1be2",
   "metadata": {},
   "outputs": [
    {
     "name": "stdout",
     "output_type": "stream",
     "text": [
      "('Romeo first loved **Rosaline**, but later he truly fell in love with **Juliet**.', Response(id='resp_0f1ef751341c76ee0068f1258cccf48197875e5fe73f5fd01f', created_at=1760634252.0, error=None, incomplete_details=None, instructions=None, metadata={}, model='gpt-5-chat-latest', object='response', output=[ResponseOutputMessage(id='msg_0f1ef751341c76ee0068f1258d728c8197b6685d26a8028f4d', content=[ResponseOutputText(annotations=[], text='Romeo first loved **Rosaline**, but later he truly fell in love with **Juliet**.', type='output_text', logprobs=[])], role='assistant', status='completed', type='message')], parallel_tool_calls=True, temperature=1.0, tool_choice='auto', tools=[], top_p=1.0, background=False, conversation=None, max_output_tokens=None, max_tool_calls=None, previous_response_id=None, prompt=None, prompt_cache_key=None, reasoning=Reasoning(effort=None, generate_summary=None, summary=None), safety_identifier=None, service_tier='default', status='completed', text=ResponseTextConfig(format=ResponseFormatText(type='text'), verbosity='medium'), top_logprobs=0, truncation='disabled', usage=ResponseUsage(input_tokens=996, input_tokens_details=InputTokensDetails(cached_tokens=0), output_tokens=22, output_tokens_details=OutputTokensDetails(reasoning_tokens=0), total_tokens=1018), user=None, billing={'payer': 'developer'}, store=True))\n"
     ]
    }
   ],
   "source": [
    "print(ask_gpt_response(system_prompt=primer, user_prompt=augmented_query('whom did romeo loved?')))"
   ]
  }
 ],
 "metadata": {
  "kernelspec": {
   "display_name": "myenv311 (3.11.5)",
   "language": "python",
   "name": "python3"
  },
  "language_info": {
   "codemirror_mode": {
    "name": "ipython",
    "version": 3
   },
   "file_extension": ".py",
   "mimetype": "text/x-python",
   "name": "python",
   "nbconvert_exporter": "python",
   "pygments_lexer": "ipython3",
   "version": "3.11.5"
  }
 },
 "nbformat": 4,
 "nbformat_minor": 5
}
