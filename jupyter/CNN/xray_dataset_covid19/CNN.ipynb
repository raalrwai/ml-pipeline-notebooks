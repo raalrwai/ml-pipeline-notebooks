{
 "cells": [
  {
   "cell_type": "code",
   "execution_count": 21,
   "id": "b6e3fe24",
   "metadata": {},
   "outputs": [],
   "source": [
    "import time\n",
    "import torch\n",
    "import matplotlib.pyplot as plt\n",
    "import torch.nn as nn\n",
    "from torch.utils.data import DataLoader\n",
    "from torchvision import datasets, transforms"
   ]
  },
  {
   "cell_type": "code",
   "execution_count": 22,
   "id": "8299cb58",
   "metadata": {},
   "outputs": [
    {
     "name": "stdout",
     "output_type": "stream",
     "text": [
      "Using device: cpu\n"
     ]
    }
   ],
   "source": [
    "device = \"cuda\" if torch.cuda.is_available() else \"cpu\"\n",
    "print(f\"Using device: {device}\")\n"
   ]
  },
  {
   "cell_type": "code",
   "execution_count": 23,
   "id": "6681e95a",
   "metadata": {},
   "outputs": [],
   "source": [
    "transform = transforms.Compose([\n",
    "    transforms.Resize((64, 64)), \n",
    "    transforms.ToTensor(),\n",
    "])\n"
   ]
  },
  {
   "cell_type": "code",
   "execution_count": 24,
   "id": "7568c0b9",
   "metadata": {},
   "outputs": [
    {
     "name": "stdout",
     "output_type": "stream",
     "text": [
      "{'NORMAL': 0, 'PNEUMONIA': 1}\n",
      "{'NORMAL': 0, 'PNEUMONIA': 1}\n",
      "Number of training samples: 148\n",
      "Number of testing samples: 40\n"
     ]
    }
   ],
   "source": [
    "train_dataset = datasets.ImageFolder(root=\"train\", transform=transform)\n",
    "test_dataset = datasets.ImageFolder(root=\"test\", transform=transform)\n",
    "\n",
    "print(train_dataset.class_to_idx)\n",
    "print(test_dataset.class_to_idx)\n",
    "\n",
    "print(f\"Number of training samples: {len(train_dataset)}\")\n",
    "print(f\"Number of testing samples: {len(test_dataset)}\")"
   ]
  },
  {
   "cell_type": "code",
   "execution_count": 25,
   "id": "93a17eb0",
   "metadata": {},
   "outputs": [],
   "source": [
    "batch_size = 32\n",
    "\n",
    "train_loader = DataLoader(train_dataset, batch_size=batch_size, shuffle=True)\n",
    "test_loader = DataLoader(test_dataset, batch_size=batch_size, shuffle=False)"
   ]
  },
  {
   "cell_type": "code",
   "execution_count": 26,
   "id": "ca21aa99",
   "metadata": {},
   "outputs": [],
   "source": [
    "class CNNModel(nn.Module):\n",
    "    def __init__(self):\n",
    "        super(CNNModel, self).__init__()\n",
    "                \n",
    "        self.conv_layer_1 = nn.Conv2d(3, 32, kernel_size=5, stride=1, padding=2)\n",
    "        self.bn_1 = nn.BatchNorm2d(32)\n",
    "        self.relu_1 = nn.ReLU()\n",
    "        self.max_pool_1 = nn.MaxPool2d(kernel_size=2, stride=2)\n",
    "\n",
    "        self.conv_layer_2 = nn.Conv2d(32, 64, kernel_size=5, stride=1, padding=2)\n",
    "        self.bn_2 = nn.BatchNorm2d(64)\n",
    "        self.relu_2 = nn.ReLU()\n",
    "        self.max_pool_2 = nn.MaxPool2d(kernel_size=2, stride=2)\n",
    "\n",
    "        self.fc_1 = nn.Linear(16*16*64, 256)\n",
    "        self.fc_1_relu = nn.ReLU()\n",
    "        self.dropout_1 = nn.Dropout(0.2)\n",
    "\n",
    "        self.fc_2 = nn.Linear(256, 128)\n",
    "        self.fc_2_relu = nn.ReLU()\n",
    "        self.dropout_2 = nn.Dropout(0.2)\n",
    "\n",
    "        self.fc_3 = nn.Linear(128, 2)  \n",
    "\n",
    "    def forward(self, x):\n",
    "        out = self.conv_layer_1(x)\n",
    "        out = self.bn_1(out)\n",
    "        out = self.relu_1(out)\n",
    "        out = self.max_pool_1(out)\n",
    "\n",
    "        out = self.conv_layer_2(out)\n",
    "        out = self.bn_2(out)\n",
    "        out = self.relu_2(out)\n",
    "        out = self.max_pool_2(out)\n",
    "\n",
    "        out = out.reshape(out.size(0), -1)\n",
    "\n",
    "        out = self.fc_1(out)\n",
    "        out = self.fc_1_relu(out)\n",
    "        out = self.dropout_1(out)\n",
    "\n",
    "        out = self.fc_2(out)\n",
    "        out = self.fc_2_relu(out)\n",
    "        out = self.dropout_2(out)\n",
    "\n",
    "        out = self.fc_3(out)\n",
    "        return out\n",
    "\n",
    "cnn_model = CNNModel().to(device)"
   ]
  },
  {
   "cell_type": "code",
   "execution_count": 27,
   "id": "2e12f8da",
   "metadata": {},
   "outputs": [],
   "source": [
    "error = nn.CrossEntropyLoss()\n",
    "learning_rate = .01\n",
    "optimizer = torch.optim.SGD(cnn_model.parameters(), lr=learning_rate, momentum=0.9)\n"
   ]
  },
  {
   "cell_type": "code",
   "execution_count": 28,
   "id": "c6747969",
   "metadata": {},
   "outputs": [
    {
     "name": "stdout",
     "output_type": "stream",
     "text": [
      "Starting training...\n",
      "Epoch [1/20], Step [1/5], Loss: 0.6920\n",
      "Epoch [2/20], Step [1/5], Loss: 0.2416\n",
      "Epoch [3/20], Step [1/5], Loss: 0.6424\n",
      "Epoch [4/20], Step [1/5], Loss: 0.2431\n",
      "Epoch [5/20], Step [1/5], Loss: 0.1540\n",
      "Epoch [6/20], Step [1/5], Loss: 0.3385\n",
      "Epoch [7/20], Step [1/5], Loss: 0.1729\n",
      "Epoch [8/20], Step [1/5], Loss: 0.0832\n",
      "Epoch [9/20], Step [1/5], Loss: 0.0418\n",
      "Epoch [10/20], Step [1/5], Loss: 0.0681\n",
      "Epoch [11/20], Step [1/5], Loss: 0.0240\n",
      "Epoch [12/20], Step [1/5], Loss: 0.0045\n",
      "Epoch [13/20], Step [1/5], Loss: 0.0163\n",
      "Epoch [14/20], Step [1/5], Loss: 0.0057\n",
      "Epoch [15/20], Step [1/5], Loss: 0.0105\n",
      "Epoch [16/20], Step [1/5], Loss: 0.0075\n",
      "Epoch [17/20], Step [1/5], Loss: 0.0035\n",
      "Epoch [18/20], Step [1/5], Loss: 0.0012\n",
      "Epoch [19/20], Step [1/5], Loss: 0.0012\n",
      "Epoch [20/20], Step [1/5], Loss: 0.0001\n"
     ]
    }
   ],
   "source": [
    "total_epochs = 20  \n",
    "\n",
    "loss_list = []      \n",
    "iteration_list = [] \n",
    "count = 0            \n",
    "\n",
    "num_of_iterations = len(train_loader) \n",
    "\n",
    "print(\"Starting training...\")\n",
    "\n",
    "training_start_time = time.time()\n",
    "\n",
    "for epoch in range(total_epochs):\n",
    "    cnn_model.train()  \n",
    "    \n",
    "    for i, (images, labels) in enumerate(train_loader):\n",
    "       \n",
    "        images = images.to(device)\n",
    "        labels = labels.to(device)\n",
    "\n",
    "       \n",
    "        optimizer.zero_grad()\n",
    "\n",
    "      \n",
    "        outputs = cnn_model(images)\n",
    "\n",
    "     \n",
    "        loss = error(outputs, labels)\n",
    "\n",
    "       \n",
    "        loss.backward()\n",
    "\n",
    "       \n",
    "        optimizer.step()\n",
    "\n",
    "        count += 1\n",
    "        loss_list.append(loss.item())     \n",
    "        iteration_list.append(count)      \n",
    "\n",
    "       \n",
    "        if (i + 1) % 10 == 0 or i == 0:\n",
    "            print(f\"Epoch [{epoch+1}/{total_epochs}], Step [{i+1}/{num_of_iterations}], Loss: {loss.item():.4f}\")\n"
   ]
  },
  {
   "cell_type": "code",
   "execution_count": 29,
   "id": "90071d7a",
   "metadata": {},
   "outputs": [
    {
     "name": "stdout",
     "output_type": "stream",
     "text": [
      "\n",
      "Total training time: 172.9618480205536 seconds\n"
     ]
    }
   ],
   "source": [
    "training_end_time = time.time()\n",
    "print(f\"\\nTotal training time: {training_end_time - training_start_time} seconds\")"
   ]
  },
  {
   "cell_type": "code",
   "execution_count": 30,
   "id": "3cc7060c",
   "metadata": {},
   "outputs": [
    {
     "data": {
      "image/png": "[encoded data removed]",
      "text/plain": [
       "<Figure size 640x480 with 1 Axes>"
      ]
     },
     "metadata": {},
     "output_type": "display_data"
    }
   ],
   "source": [
    "plt.plot(iteration_list, loss_list)\n",
    "plt.xlabel(\"Iterations\")\n",
    "plt.ylabel(\"Loss\")\n",
    "plt.title(\"Training Loss Curve\")\n",
    "plt.show()"
   ]
  },
  {
   "cell_type": "code",
   "execution_count": 31,
   "id": "263d87ba",
   "metadata": {},
   "outputs": [
    {
     "name": "stdout",
     "output_type": "stream",
     "text": [
      "Test Accuracy: 100.00%\n"
     ]
    }
   ],
   "source": [
    "cnn_model.eval()  \n",
    "\n",
    "total_correct = 0\n",
    "total_samples = 0\n",
    "\n",
    "with torch.no_grad():\n",
    "    for images, labels in test_loader:\n",
    "        images = images.to(device)\n",
    "        labels = labels.to(device)\n",
    "\n",
    "        outputs = cnn_model(images)\n",
    "        _, predicted = torch.max(outputs, 1)\n",
    "\n",
    "        total_correct += (predicted == labels).sum().item()\n",
    "        total_samples += labels.size(0)\n",
    "\n",
    "accuracy = total_correct / total_samples * 100\n",
    "print(f\"Test Accuracy: {accuracy:.2f}%\")\n",
    "\n",
    "test_iter = iter(test_loader)\n",
    "images, labels = next(test_iter)\n",
    "images = images.to(device)\n",
    "labels = labels.to(device)\n",
    "outputs = cnn_model(images)\n",
    "_, preds = torch.max(outputs, 1)\n",
    "\n",
    "plt.show()"
   ]
  }
 ],
 "metadata": {
  "kernelspec": {
   "display_name": "env (3.13.7)",
   "language": "python",
   "name": "python3"
  },
  "language_info": {
   "codemirror_mode": {
    "name": "ipython",
    "version": 3
   },
   "file_extension": ".py",
   "mimetype": "text/x-python",
   "name": "python",
   "nbconvert_exporter": "python",
   "pygments_lexer": "ipython3",
   "version": "3.13.7"
  }
 },
 "nbformat": 4,
 "nbformat_minor": 5
}
